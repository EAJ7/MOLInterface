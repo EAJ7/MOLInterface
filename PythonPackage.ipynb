{
 "cells": [
  {
   "cell_type": "code",
   "execution_count": null,
   "id": "9e64065b-3cd9-499e-af6f-65eaddee7c49",
   "metadata": {},
   "outputs": [],
   "source": []
  },
  {
   "cell_type": "code",
   "execution_count": 3,
   "id": "601459c4-473a-47fd-ab55-65a9b13922a4",
   "metadata": {},
   "outputs": [],
   "source": [
    "import pubchempy as pcp # Imports the library containing the infos on the molecules\n",
    "from rdkit import Chem\n",
    "from rdkit.Chem import Draw # Capasity to draw the molecule from the smile\n",
    "from IPython.display import display # To have the molecule displayed in the notebook\n",
    "\n",
    "def get_compound_info(molecule_name):\n",
    "    try: # Try-except is to avoid errors to stop the code\n",
    "        compounds = pcp.get_compounds(molecule_name, 'name') # Get compounds based on the molecule name\n",
    "\n",
    "        if compounds:\n",
    "            compound = compounds[0]  # Take the first result (assuming it's the correct one)\n",
    "            iupac_name = compound.iupac_name\n",
    "            smiles_code = compound.isomeric_smiles\n",
    "            molar_mass = compound.molecular_weight\n",
    "            atomic_formula = compound.molecular_formula\n",
    "            # Retreaves the infos we want to display\n",
    "            \n",
    "            planar_molecule = Chem.MolFromSmiles(smiles_code)\n",
    "            # Create a planar molecule object from the SMILES code\n",
    "            \n",
    "            stereo_centers = Chem.FindMolChiralCenters(planar_molecule, includeUnassigned=True)\n",
    "            num_stereo_centers = len(stereo_centers)\n",
    "\n",
    "            dict = {\"iupac_name\" : iupac_name,\n",
    "                      \"smiles_code\" : smiles_code,\n",
    "                      \"molar_mass\" : molar_mass,\n",
    "                      \"atomic_formula\" : atomic_formula,\n",
    "                      \"planar_molecule\" : planar_molecule,\n",
    "                      \"num_stereo_centers\" : num_stereo_centers,\n",
    "                      \"stereo_centers\" : stereo_centers}\n",
    "\n",
    "            return dict\n",
    "        else:\n",
    "            return None\n",
    "    except Exception as ex: # This part is just to avoid any error message to pop on the user's screen (would be terrible)\n",
    "        return f\"Error: {str(ex)}\"\n",
    "\n"
   ]
  },
  {
   "cell_type": "code",
   "execution_count": 5,
   "id": "0cae479b-7032-4278-90c2-7e2109be7e02",
   "metadata": {},
   "outputs": [],
   "source": [
    "def label_stereogenic_centers(molecule, stereo_centers):\n",
    "    for atom_idx, center_info in stereo_centers:\n",
    "        atom = molecule.GetAtomWithIdx(atom_idx)\n",
    "        neighbors = atom.GetNeighbors()\n",
    "        \n",
    "        # Calculate priorities for neighbors\n",
    "        priorities = []\n",
    "        for neighbor in neighbors:\n",
    "            priority = neighbor.GetAtomicNum()  # Atomic number as priority\n",
    "            priorities.append(priority)\n",
    "        print(priorities)\n",
    "        \n",
    "        # Determine stereochemistry (R or S)\n",
    "        if len(priorities) == 4: # No hydrogen\n",
    "            # Sort priorities in descending order\n",
    "            priorities.sort(reverse=True)\n",
    "            if priorities[0]<priorities[1]<priorities[2]<priorities[3]:\n",
    "                atom.SetProp(\"atomNote\", \"R\")  # Rectus\n",
    "            elif priorities[3]<priorities[2]<priorities[1]<priorities[0]:\n",
    "                atom.SetProp(\"atomNote\", \"S\")  # Sinister\n",
    "            else:\n",
    "                atom.SetProp(\"atomNote\", \"*\")  # Unknown\n",
    "        elif len(priorities) == 3: # One hydrogen\n",
    "            # Sort priorities in descending order\n",
    "            priorities.sort(reverse=True)\n",
    "            if priorities[0]<priorities[1]<priorities[2]:\n",
    "                atom.SetProp(\"atomNote\", \"R\")  # Rectus\n",
    "            elif priorities[2]<priorities[1]<priorities[0]:\n",
    "                atom.SetProp(\"atomNote\", \"S\")  # Sinister\n",
    "            else:\n",
    "                atom.SetProp(\"atomNote\", \"*\")  # Unknown\n",
    "        else:\n",
    "            atom.SetProp(\"atomNote\", \"*\")  # Unknown (not a stereocenter)\n"
   ]
  },
  {
   "cell_type": "code",
   "execution_count": 7,
   "id": "785f498f-1005-452d-a2bd-f2f36c07e3c7",
   "metadata": {},
   "outputs": [
    {
     "name": "stdin",
     "output_type": "stream",
     "text": [
      "molecule name: thymidine\n"
     ]
    },
    {
     "name": "stdout",
     "output_type": "stream",
     "text": [
      "IUPAC Name: 1-[(2R,4S,5R)-4-hydroxy-5-(hydroxymethyl)oxolan-2-yl]-5-methylpyrimidine-2,4-dione\n",
      "SMILES Code: CC1=CN(C(=O)NC1=O)[C@H]2C[C@@H]([C@H](O2)CO)O\n",
      "Atomic Formula: C10H14N2O5\n",
      "Molar Mass: 242.23 g/mol\n",
      "Atomic Formula: C10H14N2O5\n",
      "Stereogenic Centers: 3\n",
      "[7, 6, 8]\n",
      "[6, 6, 8]\n",
      "[6, 8, 6]\n"
     ]
    },
    {
     "data": {
      "image/jpeg": "[encoded data removed]",
      "image/png": "[encoded data removed]",
      "text/plain": [
       "<PIL.PngImagePlugin.PngImageFile image mode=RGB size=300x300>"
      ]
     },
     "metadata": {},
     "output_type": "display_data"
    }
   ],
   "source": [
    "\n",
    "molecule_name = input(\"molecule name:\")\n",
    "result = get_compound_info(molecule_name)\n",
    "if result:\n",
    "    print(f\"IUPAC Name: {result['iupac_name']}\")\n",
    "    print(f\"SMILES Code: {result['smiles_code']}\")\n",
    "    print(f\"Atomic Formula: {result['atomic_formula']}\")\n",
    "    print(f\"Molar Mass: {result['molar_mass']} g/mol\")\n",
    "    print(f\"Atomic Formula: {result['atomic_formula']}\")\n",
    "    print(f\"Stereogenic Centers: {result['num_stereo_centers']}\")\n",
    "\n",
    "    \n",
    "    label_stereogenic_centers(result[\"planar_molecule\"], result[\"stereo_centers\"])# Label stereogenic centers\n",
    "    \n",
    "    img = Draw.MolToImage(result['planar_molecule'])\n",
    "    display(img)\n",
    "else:\n",
    "    print(f\"No compound found for '{molecule_name}'\")\n",
    "    \n"
   ]
  },
  {
   "cell_type": "code",
   "execution_count": 8,
   "id": "9aad6004-8843-4611-b25c-7ebfbfea12e6",
   "metadata": {},
   "outputs": [
    {
     "data": {
      "application/3dmoljs_load.v0": "<div id=\"3dmolviewer_1714726237945982\"  style=\"position: relative; width: 400px; height: 400px;\">\n        <p id=\"3dmolwarning_1714726237945982\" style=\"background-color:#ffcccc;color:black\">3Dmol.js failed to load for some reason.  Please check your browser console for error messages.<br></p>\n        </div>\n<script>\n\nvar loadScriptAsync = function(uri){\n  return new Promise((resolve, reject) => {\n    //this is to ignore the existence of requirejs amd\n    var savedexports, savedmodule;\n    if (typeof exports !== 'undefined') savedexports = exports;\n    else exports = {}\n    if (typeof module !== 'undefined') savedmodule = module;\n    else module = {}\n\n    var tag = document.createElement('script');\n    tag.src = uri;\n    tag.async = true;\n    tag.onload = () => {\n        exports = savedexports;\n        module = savedmodule;\n        resolve();\n    };\n  var firstScriptTag = document.getElementsByTagName('script')[0];\n  firstScriptTag.parentNode.insertBefore(tag, firstScriptTag);\n});\n};\n\nif(typeof $3Dmolpromise === 'undefined') {\n$3Dmolpromise = null;\n  $3Dmolpromise = loadScriptAsync('https://cdnjs.cloudflare.com/ajax/libs/3Dmol/2.1.0/3Dmol-min.js');\n}\n\nvar viewer_1714726237945982 = null;\nvar warn = document.getElementById(\"3dmolwarning_1714726237945982\");\nif(warn) {\n    warn.parentNode.removeChild(warn);\n}\n$3Dmolpromise.then(function() {\nviewer_1714726237945982 = $3Dmol.createViewer(document.getElementById(\"3dmolviewer_1714726237945982\"),{backgroundColor:\"white\"});\nviewer_1714726237945982.zoomTo();\n\tviewer_1714726237945982.removeAllModels();\n\tviewer_1714726237945982.addModel(\"\\n     RDKit          3D\\n\\n 31 32  0  0  0  0  0  0  0  0999 V2000\\n    3.9252   -1.2495   -1.1676 C   0  0  0  0  0  0  0  0  0  0  0  0\\n    2.9405   -0.3951   -0.4494 C   0  0  0  0  0  0  0  0  0  0  0  0\\n    1.7386   -0.8375   -0.0017 C   0  0  0  0  0  0  0  0  0  0  0  0\\n    0.8535   -0.0306    0.6551 N   0  0  0  0  0  0  0  0  0  0  0  0\\n    1.2547    1.2318    0.8274 C   0  0  0  0  0  0  0  0  0  0  0  0\\n    0.4711    1.9948    1.4229 O   0  0  0  0  0  0  0  0  0  0  0  0\\n    2.4302    1.7288    0.4080 N   0  0  0  0  0  0  0  0  0  0  0  0\\n    3.3103    0.9160   -0.2481 C   0  0  0  0  0  0  0  0  0  0  0  0\\n    4.4228    1.3524   -0.6547 O   0  0  0  0  0  0  0  0  0  0  0  0\\n   -0.3486   -0.6386    1.0553 C   0  0  1  0  0  0  0  0  0  0  0  0\\n   -1.3639    0.0591    1.7993 C   0  0  0  0  0  0  0  0  0  0  0  0\\n   -2.2915    0.5862    0.6961 C   0  0  1  0  0  0  0  0  0  0  0  0\\n   -2.2332   -0.6415   -0.1897 C   0  0  2  0  0  0  0  0  0  0  0  0\\n   -0.9722   -1.1478   -0.0982 O   0  0  0  0  0  0  0  0  0  0  0  0\\n   -2.6661   -0.3340   -1.6033 C   0  0  0  0  0  0  0  0  0  0  0  0\\n   -3.9525    0.1695   -1.5613 O   0  0  0  0  0  0  0  0  0  0  0  0\\n   -3.5676    0.8049    1.1993 O   0  0  0  0  0  0  0  0  0  0  0  0\\n    4.8535   -1.2501   -0.5254 H   0  0  0  0  0  0  0  0  0  0  0  0\\n    3.5585   -2.2723   -1.3196 H   0  0  0  0  0  0  0  0  0  0  0  0\\n    4.2111   -0.7375   -2.1092 H   0  0  0  0  0  0  0  0  0  0  0  0\\n    1.5035   -1.8932   -0.1939 H   0  0  0  0  0  0  0  0  0  0  0  0\\n    2.7099    2.7231    0.5611 H   0  0  0  0  0  0  0  0  0  0  0  0\\n   -0.0588   -1.5769    1.6244 H   0  0  0  0  0  0  0  0  0  0  0  0\\n   -1.1339    0.7733    2.5559 H   0  0  0  0  0  0  0  0  0  0  0  0\\n   -2.0168   -0.7132    2.3191 H   0  0  0  0  0  0  0  0  0  0  0  0\\n   -1.8776    1.4166    0.1344 H   0  0  0  0  0  0  0  0  0  0  0  0\\n   -2.9482   -1.4230    0.1877 H   0  0  0  0  0  0  0  0  0  0  0  0\\n   -2.7029   -1.3050   -2.1401 H   0  0  0  0  0  0  0  0  0  0  0  0\\n   -1.9552    0.3265   -2.1261 H   0  0  0  0  0  0  0  0  0  0  0  0\\n   -4.2193    0.6275   -2.4030 H   0  0  0  0  0  0  0  0  0  0  0  0\\n   -3.8750    1.7354    1.0663 H   0  0  0  0  0  0  0  0  0  0  0  0\\n  1  2  1  0\\n  2  3  2  0\\n  3  4  1  0\\n  4  5  1  0\\n  5  6  2  0\\n  5  7  1  0\\n  7  8  1  0\\n  8  9  2  0\\n  4 10  1  0\\n 10 11  1  0\\n 11 12  1  0\\n 12 13  1  0\\n 13 14  1  0\\n 13 15  1  0\\n 15 16  1  0\\n 12 17  1  0\\n  8  2  1  0\\n 14 10  1  0\\n  1 18  1  0\\n  1 19  1  0\\n  1 20  1  0\\n  3 21  1  0\\n  7 22  1  0\\n 10 23  1  1\\n 11 24  1  0\\n 11 25  1  0\\n 12 26  1  6\\n 13 27  1  1\\n 15 28  1  0\\n 15 29  1  0\\n 16 30  1  0\\n 17 31  1  0\\nM  END\\n\",\"sdf\");\n\tviewer_1714726237945982.setStyle({\"stick\": {}, \"sphere\": {\"colorscheme\": \"Jmol\", \"scale\": 0.3}});\n\tviewer_1714726237945982.setBackgroundColor(\"#FFFFFF\");\n\tviewer_1714726237945982.zoomTo();\nviewer_1714726237945982.render();\n});\n</script>",
      "text/html": [
       "<div id=\"3dmolviewer_1714726237945982\"  style=\"position: relative; width: 400px; height: 400px;\">\n",
       "        <p id=\"3dmolwarning_1714726237945982\" style=\"background-color:#ffcccc;color:black\">3Dmol.js failed to load for some reason.  Please check your browser console for error messages.<br></p>\n",
       "        </div>\n",
       "<script>\n",
       "\n",
       "var loadScriptAsync = function(uri){\n",
       "  return new Promise((resolve, reject) => {\n",
       "    //this is to ignore the existence of requirejs amd\n",
       "    var savedexports, savedmodule;\n",
       "    if (typeof exports !== 'undefined') savedexports = exports;\n",
       "    else exports = {}\n",
       "    if (typeof module !== 'undefined') savedmodule = module;\n",
       "    else module = {}\n",
       "\n",
       "    var tag = document.createElement('script');\n",
       "    tag.src = uri;\n",
       "    tag.async = true;\n",
       "    tag.onload = () => {\n",
       "        exports = savedexports;\n",
       "        module = savedmodule;\n",
       "        resolve();\n",
       "    };\n",
       "  var firstScriptTag = document.getElementsByTagName('script')[0];\n",
       "  firstScriptTag.parentNode.insertBefore(tag, firstScriptTag);\n",
       "});\n",
       "};\n",
       "\n",
       "if(typeof $3Dmolpromise === 'undefined') {\n",
       "$3Dmolpromise = null;\n",
       "  $3Dmolpromise = loadScriptAsync('https://cdnjs.cloudflare.com/ajax/libs/3Dmol/2.1.0/3Dmol-min.js');\n",
       "}\n",
       "\n",
       "var viewer_1714726237945982 = null;\n",
       "var warn = document.getElementById(\"3dmolwarning_1714726237945982\");\n",
       "if(warn) {\n",
       "    warn.parentNode.removeChild(warn);\n",
       "}\n",
       "$3Dmolpromise.then(function() {\n",
       "viewer_1714726237945982 = $3Dmol.createViewer(document.getElementById(\"3dmolviewer_1714726237945982\"),{backgroundColor:\"white\"});\n",
       "viewer_1714726237945982.zoomTo();\n",
       "\tviewer_1714726237945982.removeAllModels();\n",
       "\tviewer_1714726237945982.addModel(\"\\n     RDKit          3D\\n\\n 31 32  0  0  0  0  0  0  0  0999 V2000\\n    3.9252   -1.2495   -1.1676 C   0  0  0  0  0  0  0  0  0  0  0  0\\n    2.9405   -0.3951   -0.4494 C   0  0  0  0  0  0  0  0  0  0  0  0\\n    1.7386   -0.8375   -0.0017 C   0  0  0  0  0  0  0  0  0  0  0  0\\n    0.8535   -0.0306    0.6551 N   0  0  0  0  0  0  0  0  0  0  0  0\\n    1.2547    1.2318    0.8274 C   0  0  0  0  0  0  0  0  0  0  0  0\\n    0.4711    1.9948    1.4229 O   0  0  0  0  0  0  0  0  0  0  0  0\\n    2.4302    1.7288    0.4080 N   0  0  0  0  0  0  0  0  0  0  0  0\\n    3.3103    0.9160   -0.2481 C   0  0  0  0  0  0  0  0  0  0  0  0\\n    4.4228    1.3524   -0.6547 O   0  0  0  0  0  0  0  0  0  0  0  0\\n   -0.3486   -0.6386    1.0553 C   0  0  1  0  0  0  0  0  0  0  0  0\\n   -1.3639    0.0591    1.7993 C   0  0  0  0  0  0  0  0  0  0  0  0\\n   -2.2915    0.5862    0.6961 C   0  0  1  0  0  0  0  0  0  0  0  0\\n   -2.2332   -0.6415   -0.1897 C   0  0  2  0  0  0  0  0  0  0  0  0\\n   -0.9722   -1.1478   -0.0982 O   0  0  0  0  0  0  0  0  0  0  0  0\\n   -2.6661   -0.3340   -1.6033 C   0  0  0  0  0  0  0  0  0  0  0  0\\n   -3.9525    0.1695   -1.5613 O   0  0  0  0  0  0  0  0  0  0  0  0\\n   -3.5676    0.8049    1.1993 O   0  0  0  0  0  0  0  0  0  0  0  0\\n    4.8535   -1.2501   -0.5254 H   0  0  0  0  0  0  0  0  0  0  0  0\\n    3.5585   -2.2723   -1.3196 H   0  0  0  0  0  0  0  0  0  0  0  0\\n    4.2111   -0.7375   -2.1092 H   0  0  0  0  0  0  0  0  0  0  0  0\\n    1.5035   -1.8932   -0.1939 H   0  0  0  0  0  0  0  0  0  0  0  0\\n    2.7099    2.7231    0.5611 H   0  0  0  0  0  0  0  0  0  0  0  0\\n   -0.0588   -1.5769    1.6244 H   0  0  0  0  0  0  0  0  0  0  0  0\\n   -1.1339    0.7733    2.5559 H   0  0  0  0  0  0  0  0  0  0  0  0\\n   -2.0168   -0.7132    2.3191 H   0  0  0  0  0  0  0  0  0  0  0  0\\n   -1.8776    1.4166    0.1344 H   0  0  0  0  0  0  0  0  0  0  0  0\\n   -2.9482   -1.4230    0.1877 H   0  0  0  0  0  0  0  0  0  0  0  0\\n   -2.7029   -1.3050   -2.1401 H   0  0  0  0  0  0  0  0  0  0  0  0\\n   -1.9552    0.3265   -2.1261 H   0  0  0  0  0  0  0  0  0  0  0  0\\n   -4.2193    0.6275   -2.4030 H   0  0  0  0  0  0  0  0  0  0  0  0\\n   -3.8750    1.7354    1.0663 H   0  0  0  0  0  0  0  0  0  0  0  0\\n  1  2  1  0\\n  2  3  2  0\\n  3  4  1  0\\n  4  5  1  0\\n  5  6  2  0\\n  5  7  1  0\\n  7  8  1  0\\n  8  9  2  0\\n  4 10  1  0\\n 10 11  1  0\\n 11 12  1  0\\n 12 13  1  0\\n 13 14  1  0\\n 13 15  1  0\\n 15 16  1  0\\n 12 17  1  0\\n  8  2  1  0\\n 14 10  1  0\\n  1 18  1  0\\n  1 19  1  0\\n  1 20  1  0\\n  3 21  1  0\\n  7 22  1  0\\n 10 23  1  1\\n 11 24  1  0\\n 11 25  1  0\\n 12 26  1  6\\n 13 27  1  1\\n 15 28  1  0\\n 15 29  1  0\\n 16 30  1  0\\n 17 31  1  0\\nM  END\\n\",\"sdf\");\n",
       "\tviewer_1714726237945982.setStyle({\"stick\": {}, \"sphere\": {\"colorscheme\": \"Jmol\", \"scale\": 0.3}});\n",
       "\tviewer_1714726237945982.setBackgroundColor(\"#FFFFFF\");\n",
       "\tviewer_1714726237945982.zoomTo();\n",
       "viewer_1714726237945982.render();\n",
       "});\n",
       "</script>"
      ]
     },
     "metadata": {},
     "output_type": "display_data"
    }
   ],
   "source": [
    "import py3Dmol\n",
    "from rdkit.Chem import AllChem\n",
    "\n",
    "molecule_3D = Chem.AddHs(result['planar_molecule']) # Gets the 3D structure of the molecule\n",
    "AllChem.EmbedMolecule(molecule_3D) # Makes that the molecule is not planar\n",
    "\n",
    "\n",
    "# Helpful function from exercises 5\n",
    "def drawit(m,p=None,confId=-1): # m is the molecule, p is the 3D object\n",
    "        mb = Chem.MolToMolBlock(m,confId=confId) #Converts the molecule to a MolBlock (SDF format, the big table of coords) for visualization\n",
    "        if p is None:\n",
    "            p = py3Dmol.view(width=400,height=400)\n",
    "        p.removeAllModels()\n",
    "        p.addModel(mb,'sdf')\n",
    "        p.setStyle({'stick': {}, 'sphere': {'colorscheme': 'Jmol', 'scale': 0.3}}) # Style of the molecule\n",
    "        p.setBackgroundColor('#FFFFFF') # Background color (here white)\n",
    "        p.zoomTo() # Zooming option\n",
    "        return p.show()\n",
    "\n",
    "drawit(molecule_3D)"
   ]
  }
 ],
 "metadata": {
  "kernelspec": {
   "display_name": "Python 3 (ipykernel)",
   "language": "python",
   "name": "python3"
  },
  "language_info": {
   "codemirror_mode": {
    "name": "ipython",
    "version": 3
   },
   "file_extension": ".py",
   "mimetype": "text/x-python",
   "name": "python",
   "nbconvert_exporter": "python",
   "pygments_lexer": "ipython3",
   "version": "3.10.13"
  }
 },
 "nbformat": 4,
 "nbformat_minor": 5
}
