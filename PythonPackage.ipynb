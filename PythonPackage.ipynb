{
 "cells": [
  {
   "cell_type": "code",
   "execution_count": null,
   "id": "9e64065b-3cd9-499e-af6f-65eaddee7c49",
   "metadata": {},
   "outputs": [],
   "source": []
  },
  {
   "cell_type": "code",
   "execution_count": 171,
   "id": "601459c4-473a-47fd-ab55-65a9b13922a4",
   "metadata": {},
   "outputs": [],
   "source": [
    "import pubchempy as pcp # Imports the library containing the infos on the molecules\n",
    "from rdkit import Chem\n",
    "from rdkit.Chem import Draw # Capasity to draw the molecule from the smile\n",
    "from IPython.display import display # To have the molecule displayed in the notebook\n",
    "\n",
    "def get_compound_info(molecule_name):\n",
    "    try: # Try-except is to avoid errors to stop the code\n",
    "        compounds = pcp.get_compounds(molecule_name, 'name') # Get compounds based on the molecule name\n",
    "\n",
    "        if compounds:\n",
    "            compound = compounds[0]  # Take the first result (assuming it's the correct one)\n",
    "            iupac_name = compound.iupac_name\n",
    "            smiles_code = compound.isomeric_smiles\n",
    "            molar_mass = compound.molecular_weight\n",
    "            atomic_formula = compound.molecular_formula\n",
    "            # Retreaves the infos we want to display\n",
    "            \n",
    "            planar_molecule = Chem.MolFromSmiles(smiles_code)\n",
    "            # Create a planar molecule object from the SMILES code\n",
    "            \n",
    "            stereo_centers = Chem.FindMolChiralCenters(planar_molecule, includeUnassigned=True)\n",
    "            num_stereo_centers = len(stereo_centers)\n",
    "\n",
    "            dict = {\"iupac_name\" : iupac_name,\n",
    "                      \"smiles_code\" : smiles_code,\n",
    "                      \"molar_mass\" : molar_mass,\n",
    "                      \"atomic_formula\" : atomic_formula,\n",
    "                      \"planar_molecule\" : planar_molecule,\n",
    "                      \"num_stereo_centers\" : num_stereo_centers,\n",
    "                      \"stereo_centers\" : stereo_centers}\n",
    "\n",
    "            return dict\n",
    "        else:\n",
    "            return None\n",
    "    except Exception as ex: # This part is just to avoid any error message to pop on the user's screen (would be terrible)\n",
    "        return f\"Error: {str(ex)}\"\n",
    "\n"
   ]
  },
  {
   "cell_type": "code",
   "execution_count": 173,
   "id": "0cae479b-7032-4278-90c2-7e2109be7e02",
   "metadata": {},
   "outputs": [],
   "source": [
    "def label_stereogenic_centers(molecule, stereo_centers):\n",
    "    for atom_idx, center_info in stereo_centers:\n",
    "        atom = molecule.GetAtomWithIdx(atom_idx)\n",
    "        neighbors = atom.GetNeighbors()\n",
    "        \n",
    "        # Calculate priorities for neighbors\n",
    "        priorities = []\n",
    "        for neighbor in neighbors:\n",
    "            priority = neighbor.GetAtomicNum()  # Atomic number as priority\n",
    "            priorities.append(priority)\n",
    "        print(priorities)\n",
    "        \n",
    "        # Determine stereochemistry (R or S)\n",
    "        if len(priorities) == 4: # No hydrogen\n",
    "            # Sort priorities in descending order\n",
    "            priorities.sort(reverse=True)\n",
    "            if priorities[0]<priorities[1]<priorities[2]<priorities[3]:\n",
    "                atom.SetProp(\"atomNote\", \"R\")  # Rectus\n",
    "            elif priorities[3]<priorities[2]<priorities[1]<priorities[0]:\n",
    "                atom.SetProp(\"atomNote\", \"S\")  # Sinister\n",
    "            else:\n",
    "                atom.SetProp(\"atomNote\", \"*\")  # Unknown\n",
    "        elif len(priorities) == 3: # One hydrogen\n",
    "            # Sort priorities in descending order\n",
    "            priorities.sort(reverse=True)\n",
    "            if priorities[0]<priorities[1]<priorities[2]:\n",
    "                atom.SetProp(\"atomNote\", \"R\")  # Rectus\n",
    "            elif priorities[2]<priorities[1]<priorities[0]:\n",
    "                atom.SetProp(\"atomNote\", \"S\")  # Sinister\n",
    "            else:\n",
    "                atom.SetProp(\"atomNote\", \"*\")  # Unknown\n",
    "        else:\n",
    "            atom.SetProp(\"atomNote\", \"*\")  # Unknown (not a stereocenter)\n"
   ]
  },
  {
   "cell_type": "code",
   "execution_count": 179,
   "id": "785f498f-1005-452d-a2bd-f2f36c07e3c7",
   "metadata": {},
   "outputs": [
    {
     "name": "stdin",
     "output_type": "stream",
     "text": [
      "molecule name: 18-Crown 6\n"
     ]
    },
    {
     "name": "stdout",
     "output_type": "stream",
     "text": [
      "IUPAC Name: 1,4,7,10,13,16-hexaoxacyclooctadecane\n",
      "SMILES Code: C1COCCOCCOCCOCCOCCO1\n",
      "Atomic Formula: C12H24O6\n",
      "Molar Mass: 264.31 g/mol\n",
      "Atomic Formula: C12H24O6\n",
      "Stereogenic Centers: 0\n"
     ]
    },
    {
     "data": {
      "image/jpeg": "[encoded data removed]",
      "image/png": "[encoded data removed]",
      "text/plain": [
       "<PIL.PngImagePlugin.PngImageFile image mode=RGB size=300x300>"
      ]
     },
     "metadata": {},
     "output_type": "display_data"
    }
   ],
   "source": [
    "\n",
    "molecule_name = input(\"molecule name:\")\n",
    "result = get_compound_info(molecule_name)\n",
    "if result:\n",
    "    print(f\"IUPAC Name: {result['iupac_name']}\")\n",
    "    print(f\"SMILES Code: {result['smiles_code']}\")\n",
    "    print(f\"Atomic Formula: {result['atomic_formula']}\")\n",
    "    print(f\"Molar Mass: {result['molar_mass']} g/mol\")\n",
    "    print(f\"Atomic Formula: {result['atomic_formula']}\")\n",
    "    print(f\"Stereogenic Centers: {result['num_stereo_centers']}\")\n",
    "\n",
    "    \n",
    "    label_stereogenic_centers(result[\"planar_molecule\"], result[\"stereo_centers\"])# Label stereogenic centers\n",
    "    \n",
    "    img = Draw.MolToImage(result['planar_molecule'])\n",
    "    display(img)\n",
    "else:\n",
    "    print(f\"No compound found for '{molecule_name}'\")\n",
    "    \n"
   ]
  },
  {
   "cell_type": "code",
   "execution_count": 180,
   "id": "9aad6004-8843-4611-b25c-7ebfbfea12e6",
   "metadata": {},
   "outputs": [
    {
     "data": {
      "application/3dmoljs_load.v0": "<div id=\"3dmolviewer_1714672160921535\"  style=\"position: relative; width: 400px; height: 400px;\">\n        <p id=\"3dmolwarning_1714672160921535\" style=\"background-color:#ffcccc;color:black\">3Dmol.js failed to load for some reason.  Please check your browser console for error messages.<br></p>\n        </div>\n<script>\n\nvar loadScriptAsync = function(uri){\n  return new Promise((resolve, reject) => {\n    //this is to ignore the existence of requirejs amd\n    var savedexports, savedmodule;\n    if (typeof exports !== 'undefined') savedexports = exports;\n    else exports = {}\n    if (typeof module !== 'undefined') savedmodule = module;\n    else module = {}\n\n    var tag = document.createElement('script');\n    tag.src = uri;\n    tag.async = true;\n    tag.onload = () => {\n        exports = savedexports;\n        module = savedmodule;\n        resolve();\n    };\n  var firstScriptTag = document.getElementsByTagName('script')[0];\n  firstScriptTag.parentNode.insertBefore(tag, firstScriptTag);\n});\n};\n\nif(typeof $3Dmolpromise === 'undefined') {\n$3Dmolpromise = null;\n  $3Dmolpromise = loadScriptAsync('https://cdnjs.cloudflare.com/ajax/libs/3Dmol/2.1.0/3Dmol-min.js');\n}\n\nvar viewer_1714672160921535 = null;\nvar warn = document.getElementById(\"3dmolwarning_1714672160921535\");\nif(warn) {\n    warn.parentNode.removeChild(warn);\n}\n$3Dmolpromise.then(function() {\nviewer_1714672160921535 = $3Dmol.createViewer(document.getElementById(\"3dmolviewer_1714672160921535\"),{backgroundColor:\"white\"});\nviewer_1714672160921535.zoomTo();\n\tviewer_1714672160921535.removeAllModels();\n\tviewer_1714672160921535.addModel(\"\\n     RDKit          3D\\n\\n 42 42  0  0  0  0  0  0  0  0999 V2000\\n    0.9171   -3.0361    0.6294 C   0  0  0  0  0  0  0  0  0  0  0  0\\n    2.2386   -2.6256    0.0208 C   0  0  0  0  0  0  0  0  0  0  0  0\\n    2.2711   -1.2682   -0.2640 O   0  0  0  0  0  0  0  0  0  0  0  0\\n    3.5215   -0.7778    0.1206 C   0  0  0  0  0  0  0  0  0  0  0  0\\n    3.5072    0.7222    0.3176 C   0  0  0  0  0  0  0  0  0  0  0  0\\n    2.7812    1.3876   -0.6501 O   0  0  0  0  0  0  0  0  0  0  0  0\\n    2.1974    2.5584   -0.2080 C   0  0  0  0  0  0  0  0  0  0  0  0\\n    1.0200    2.2666    0.6985 C   0  0  0  0  0  0  0  0  0  0  0  0\\n    0.1621    3.3388    0.8331 O   0  0  0  0  0  0  0  0  0  0  0  0\\n   -0.7545    3.4508   -0.1991 C   0  0  0  0  0  0  0  0  0  0  0  0\\n   -2.0855    2.8103    0.1237 C   0  0  0  0  0  0  0  0  0  0  0  0\\n   -2.0510    1.4312    0.0330 O   0  0  0  0  0  0  0  0  0  0  0  0\\n   -3.3203    1.0109   -0.3821 C   0  0  0  0  0  0  0  0  0  0  0  0\\n   -3.4320   -0.4838   -0.4310 C   0  0  0  0  0  0  0  0  0  0  0  0\\n   -2.3174   -1.1327    0.1017 O   0  0  0  0  0  0  0  0  0  0  0  0\\n   -2.4320   -2.4760   -0.2492 C   0  0  0  0  0  0  0  0  0  0  0  0\\n   -1.3022   -3.3106    0.3239 C   0  0  0  0  0  0  0  0  0  0  0  0\\n   -0.1145   -2.9623   -0.2914 O   0  0  0  0  0  0  0  0  0  0  0  0\\n    1.0666   -4.0740    1.0272 H   0  0  0  0  0  0  0  0  0  0  0  0\\n    0.7435   -2.3735    1.4981 H   0  0  0  0  0  0  0  0  0  0  0  0\\n    2.4567   -3.1950   -0.9061 H   0  0  0  0  0  0  0  0  0  0  0  0\\n    3.0274   -2.9156    0.7526 H   0  0  0  0  0  0  0  0  0  0  0  0\\n    4.2843   -1.0558   -0.6337 H   0  0  0  0  0  0  0  0  0  0  0  0\\n    3.8432   -1.2504    1.0796 H   0  0  0  0  0  0  0  0  0  0  0  0\\n    4.5691    1.0475    0.3780 H   0  0  0  0  0  0  0  0  0  0  0  0\\n    3.0765    0.9032    1.3263 H   0  0  0  0  0  0  0  0  0  0  0  0\\n    2.9509    3.1922    0.2941 H   0  0  0  0  0  0  0  0  0  0  0  0\\n    1.8748    3.1225   -1.1138 H   0  0  0  0  0  0  0  0  0  0  0  0\\n    1.4568    2.0803    1.7190 H   0  0  0  0  0  0  0  0  0  0  0  0\\n    0.5269    1.3336    0.3811 H   0  0  0  0  0  0  0  0  0  0  0  0\\n   -0.3368    3.1157   -1.1628 H   0  0  0  0  0  0  0  0  0  0  0  0\\n   -0.9571    4.5510   -0.3228 H   0  0  0  0  0  0  0  0  0  0  0  0\\n   -2.8585    3.2337   -0.5571 H   0  0  0  0  0  0  0  0  0  0  0  0\\n   -2.3624    3.1270    1.1500 H   0  0  0  0  0  0  0  0  0  0  0  0\\n   -4.1033    1.4376    0.2859 H   0  0  0  0  0  0  0  0  0  0  0  0\\n   -3.5091    1.4656   -1.3871 H   0  0  0  0  0  0  0  0  0  0  0  0\\n   -4.3040   -0.8059    0.1574 H   0  0  0  0  0  0  0  0  0  0  0  0\\n   -3.5617   -0.8611   -1.4706 H   0  0  0  0  0  0  0  0  0  0  0  0\\n   -2.4033   -2.5384   -1.3643 H   0  0  0  0  0  0  0  0  0  0  0  0\\n   -3.4228   -2.8944    0.0581 H   0  0  0  0  0  0  0  0  0  0  0  0\\n   -1.5687   -4.3766    0.0918 H   0  0  0  0  0  0  0  0  0  0  0  0\\n   -1.2959   -3.1726    1.4176 H   0  0  0  0  0  0  0  0  0  0  0  0\\n  1  2  1  0\\n  2  3  1  0\\n  3  4  1  0\\n  4  5  1  0\\n  5  6  1  0\\n  6  7  1  0\\n  7  8  1  0\\n  8  9  1  0\\n  9 10  1  0\\n 10 11  1  0\\n 11 12  1  0\\n 12 13  1  0\\n 13 14  1  0\\n 14 15  1  0\\n 15 16  1  0\\n 16 17  1  0\\n 17 18  1  0\\n 18  1  1  0\\n  1 19  1  0\\n  1 20  1  0\\n  2 21  1  0\\n  2 22  1  0\\n  4 23  1  0\\n  4 24  1  0\\n  5 25  1  0\\n  5 26  1  0\\n  7 27  1  0\\n  7 28  1  0\\n  8 29  1  0\\n  8 30  1  0\\n 10 31  1  0\\n 10 32  1  0\\n 11 33  1  0\\n 11 34  1  0\\n 13 35  1  0\\n 13 36  1  0\\n 14 37  1  0\\n 14 38  1  0\\n 16 39  1  0\\n 16 40  1  0\\n 17 41  1  0\\n 17 42  1  0\\nM  END\\n\",\"sdf\");\n\tviewer_1714672160921535.setStyle({\"stick\": {}, \"sphere\": {\"colorscheme\": \"Jmol\", \"scale\": 0.3}});\n\tviewer_1714672160921535.setBackgroundColor(\"#FFFFFF\");\n\tviewer_1714672160921535.zoomTo();\nviewer_1714672160921535.render();\n});\n</script>",
      "text/html": [
       "<div id=\"3dmolviewer_1714672160921535\"  style=\"position: relative; width: 400px; height: 400px;\">\n",
       "        <p id=\"3dmolwarning_1714672160921535\" style=\"background-color:#ffcccc;color:black\">3Dmol.js failed to load for some reason.  Please check your browser console for error messages.<br></p>\n",
       "        </div>\n",
       "<script>\n",
       "\n",
       "var loadScriptAsync = function(uri){\n",
       "  return new Promise((resolve, reject) => {\n",
       "    //this is to ignore the existence of requirejs amd\n",
       "    var savedexports, savedmodule;\n",
       "    if (typeof exports !== 'undefined') savedexports = exports;\n",
       "    else exports = {}\n",
       "    if (typeof module !== 'undefined') savedmodule = module;\n",
       "    else module = {}\n",
       "\n",
       "    var tag = document.createElement('script');\n",
       "    tag.src = uri;\n",
       "    tag.async = true;\n",
       "    tag.onload = () => {\n",
       "        exports = savedexports;\n",
       "        module = savedmodule;\n",
       "        resolve();\n",
       "    };\n",
       "  var firstScriptTag = document.getElementsByTagName('script')[0];\n",
       "  firstScriptTag.parentNode.insertBefore(tag, firstScriptTag);\n",
       "});\n",
       "};\n",
       "\n",
       "if(typeof $3Dmolpromise === 'undefined') {\n",
       "$3Dmolpromise = null;\n",
       "  $3Dmolpromise = loadScriptAsync('https://cdnjs.cloudflare.com/ajax/libs/3Dmol/2.1.0/3Dmol-min.js');\n",
       "}\n",
       "\n",
       "var viewer_1714672160921535 = null;\n",
       "var warn = document.getElementById(\"3dmolwarning_1714672160921535\");\n",
       "if(warn) {\n",
       "    warn.parentNode.removeChild(warn);\n",
       "}\n",
       "$3Dmolpromise.then(function() {\n",
       "viewer_1714672160921535 = $3Dmol.createViewer(document.getElementById(\"3dmolviewer_1714672160921535\"),{backgroundColor:\"white\"});\n",
       "viewer_1714672160921535.zoomTo();\n",
       "\tviewer_1714672160921535.removeAllModels();\n",
       "\tviewer_1714672160921535.addModel(\"\\n     RDKit          3D\\n\\n 42 42  0  0  0  0  0  0  0  0999 V2000\\n    0.9171   -3.0361    0.6294 C   0  0  0  0  0  0  0  0  0  0  0  0\\n    2.2386   -2.6256    0.0208 C   0  0  0  0  0  0  0  0  0  0  0  0\\n    2.2711   -1.2682   -0.2640 O   0  0  0  0  0  0  0  0  0  0  0  0\\n    3.5215   -0.7778    0.1206 C   0  0  0  0  0  0  0  0  0  0  0  0\\n    3.5072    0.7222    0.3176 C   0  0  0  0  0  0  0  0  0  0  0  0\\n    2.7812    1.3876   -0.6501 O   0  0  0  0  0  0  0  0  0  0  0  0\\n    2.1974    2.5584   -0.2080 C   0  0  0  0  0  0  0  0  0  0  0  0\\n    1.0200    2.2666    0.6985 C   0  0  0  0  0  0  0  0  0  0  0  0\\n    0.1621    3.3388    0.8331 O   0  0  0  0  0  0  0  0  0  0  0  0\\n   -0.7545    3.4508   -0.1991 C   0  0  0  0  0  0  0  0  0  0  0  0\\n   -2.0855    2.8103    0.1237 C   0  0  0  0  0  0  0  0  0  0  0  0\\n   -2.0510    1.4312    0.0330 O   0  0  0  0  0  0  0  0  0  0  0  0\\n   -3.3203    1.0109   -0.3821 C   0  0  0  0  0  0  0  0  0  0  0  0\\n   -3.4320   -0.4838   -0.4310 C   0  0  0  0  0  0  0  0  0  0  0  0\\n   -2.3174   -1.1327    0.1017 O   0  0  0  0  0  0  0  0  0  0  0  0\\n   -2.4320   -2.4760   -0.2492 C   0  0  0  0  0  0  0  0  0  0  0  0\\n   -1.3022   -3.3106    0.3239 C   0  0  0  0  0  0  0  0  0  0  0  0\\n   -0.1145   -2.9623   -0.2914 O   0  0  0  0  0  0  0  0  0  0  0  0\\n    1.0666   -4.0740    1.0272 H   0  0  0  0  0  0  0  0  0  0  0  0\\n    0.7435   -2.3735    1.4981 H   0  0  0  0  0  0  0  0  0  0  0  0\\n    2.4567   -3.1950   -0.9061 H   0  0  0  0  0  0  0  0  0  0  0  0\\n    3.0274   -2.9156    0.7526 H   0  0  0  0  0  0  0  0  0  0  0  0\\n    4.2843   -1.0558   -0.6337 H   0  0  0  0  0  0  0  0  0  0  0  0\\n    3.8432   -1.2504    1.0796 H   0  0  0  0  0  0  0  0  0  0  0  0\\n    4.5691    1.0475    0.3780 H   0  0  0  0  0  0  0  0  0  0  0  0\\n    3.0765    0.9032    1.3263 H   0  0  0  0  0  0  0  0  0  0  0  0\\n    2.9509    3.1922    0.2941 H   0  0  0  0  0  0  0  0  0  0  0  0\\n    1.8748    3.1225   -1.1138 H   0  0  0  0  0  0  0  0  0  0  0  0\\n    1.4568    2.0803    1.7190 H   0  0  0  0  0  0  0  0  0  0  0  0\\n    0.5269    1.3336    0.3811 H   0  0  0  0  0  0  0  0  0  0  0  0\\n   -0.3368    3.1157   -1.1628 H   0  0  0  0  0  0  0  0  0  0  0  0\\n   -0.9571    4.5510   -0.3228 H   0  0  0  0  0  0  0  0  0  0  0  0\\n   -2.8585    3.2337   -0.5571 H   0  0  0  0  0  0  0  0  0  0  0  0\\n   -2.3624    3.1270    1.1500 H   0  0  0  0  0  0  0  0  0  0  0  0\\n   -4.1033    1.4376    0.2859 H   0  0  0  0  0  0  0  0  0  0  0  0\\n   -3.5091    1.4656   -1.3871 H   0  0  0  0  0  0  0  0  0  0  0  0\\n   -4.3040   -0.8059    0.1574 H   0  0  0  0  0  0  0  0  0  0  0  0\\n   -3.5617   -0.8611   -1.4706 H   0  0  0  0  0  0  0  0  0  0  0  0\\n   -2.4033   -2.5384   -1.3643 H   0  0  0  0  0  0  0  0  0  0  0  0\\n   -3.4228   -2.8944    0.0581 H   0  0  0  0  0  0  0  0  0  0  0  0\\n   -1.5687   -4.3766    0.0918 H   0  0  0  0  0  0  0  0  0  0  0  0\\n   -1.2959   -3.1726    1.4176 H   0  0  0  0  0  0  0  0  0  0  0  0\\n  1  2  1  0\\n  2  3  1  0\\n  3  4  1  0\\n  4  5  1  0\\n  5  6  1  0\\n  6  7  1  0\\n  7  8  1  0\\n  8  9  1  0\\n  9 10  1  0\\n 10 11  1  0\\n 11 12  1  0\\n 12 13  1  0\\n 13 14  1  0\\n 14 15  1  0\\n 15 16  1  0\\n 16 17  1  0\\n 17 18  1  0\\n 18  1  1  0\\n  1 19  1  0\\n  1 20  1  0\\n  2 21  1  0\\n  2 22  1  0\\n  4 23  1  0\\n  4 24  1  0\\n  5 25  1  0\\n  5 26  1  0\\n  7 27  1  0\\n  7 28  1  0\\n  8 29  1  0\\n  8 30  1  0\\n 10 31  1  0\\n 10 32  1  0\\n 11 33  1  0\\n 11 34  1  0\\n 13 35  1  0\\n 13 36  1  0\\n 14 37  1  0\\n 14 38  1  0\\n 16 39  1  0\\n 16 40  1  0\\n 17 41  1  0\\n 17 42  1  0\\nM  END\\n\",\"sdf\");\n",
       "\tviewer_1714672160921535.setStyle({\"stick\": {}, \"sphere\": {\"colorscheme\": \"Jmol\", \"scale\": 0.3}});\n",
       "\tviewer_1714672160921535.setBackgroundColor(\"#FFFFFF\");\n",
       "\tviewer_1714672160921535.zoomTo();\n",
       "viewer_1714672160921535.render();\n",
       "});\n",
       "</script>"
      ]
     },
     "metadata": {},
     "output_type": "display_data"
    }
   ],
   "source": [
    "import py3Dmol\n",
    "from rdkit.Chem import AllChem\n",
    "\n",
    "molecule_3D = Chem.AddHs(result['planar_molecule']) # Gets the 3D structure of the molecule\n",
    "AllChem.EmbedMolecule(molecule_3D) # Makes that the molecule is not planar\n",
    "\n",
    "\n",
    "# Helpful function from exercises 5\n",
    "def drawit(m,p=None,confId=-1): # m is the molecule, p is the 3D object\n",
    "        mb = Chem.MolToMolBlock(m,confId=confId) #Converts the molecule to a MolBlock (SDF format, the big table of coords) for visualization\n",
    "        if p is None:\n",
    "            p = py3Dmol.view(width=400,height=400)\n",
    "        p.removeAllModels()\n",
    "        p.addModel(mb,'sdf')\n",
    "        p.setStyle({'stick': {}, 'sphere': {'colorscheme': 'Jmol', 'scale': 0.3}}) # Style of the molecule\n",
    "        p.setBackgroundColor('#FFFFFF') # Background color (here white)\n",
    "        p.zoomTo() # Zooming option\n",
    "        return p.show()\n",
    "\n",
    "drawit(molecule_3D)"
   ]
  }
 ],
 "metadata": {
  "kernelspec": {
   "display_name": "Python 3 (ipykernel)",
   "language": "python",
   "name": "python3"
  },
  "language_info": {
   "codemirror_mode": {
    "name": "ipython",
    "version": 3
   },
   "file_extension": ".py",
   "mimetype": "text/x-python",
   "name": "python",
   "nbconvert_exporter": "python",
   "pygments_lexer": "ipython3",
   "version": "3.10.13"
  }
 },
 "nbformat": 4,
 "nbformat_minor": 5
}
