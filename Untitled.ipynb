{
 "cells": [
  {
   "cell_type": "code",
   "execution_count": 3,
   "id": "3e57bde8-c144-47ed-a56e-65d536a9a9f4",
   "metadata": {},
   "outputs": [
    {
     "name": "stderr",
     "output_type": "stream",
     "text": [
      "[01:40:45] SMILES Parse Error: syntax error while parsing: CC@HC(=O)O\n",
      "[01:40:45] SMILES Parse Error: Failed parsing SMILES 'CC@HC(=O)O' for input: 'CC@HC(=O)O'\n"
     ]
    },
    {
     "ename": "ValueError",
     "evalue": "Null molecule provided",
     "output_type": "error",
     "traceback": [
      "\u001b[0;31m---------------------------------------------------------------------------\u001b[0m",
      "\u001b[0;31mValueError\u001b[0m                                Traceback (most recent call last)",
      "Cell \u001b[0;32mIn[3], line 14\u001b[0m\n\u001b[1;32m     11\u001b[0m mol \u001b[38;5;241m=\u001b[39m Chem\u001b[38;5;241m.\u001b[39mMolFromSmiles(\u001b[38;5;124m'\u001b[39m\u001b[38;5;124mCC@HC(=O)O\u001b[39m\u001b[38;5;124m'\u001b[39m)\n\u001b[1;32m     13\u001b[0m \u001b[38;5;66;03m# Generate an image of the molecule\u001b[39;00m\n\u001b[0;32m---> 14\u001b[0m img \u001b[38;5;241m=\u001b[39m \u001b[43mDraw\u001b[49m\u001b[38;5;241;43m.\u001b[39;49m\u001b[43mMolToImage\u001b[49m\u001b[43m(\u001b[49m\u001b[43mmol\u001b[49m\u001b[43m)\u001b[49m\n\u001b[1;32m     16\u001b[0m \u001b[38;5;66;03m# Create a tkinter window\u001b[39;00m\n\u001b[1;32m     17\u001b[0m root \u001b[38;5;241m=\u001b[39m tk\u001b[38;5;241m.\u001b[39mTk()\n",
      "File \u001b[0;32m~/miniconda3/envs/ppchem/lib/python3.10/site-packages/rdkit/Chem/Draw/__init__.py:233\u001b[0m, in \u001b[0;36mMolToImage\u001b[0;34m(mol, size, kekulize, wedgeBonds, fitImage, options, canvas, **kwargs)\u001b[0m\n\u001b[1;32m    203\u001b[0m \u001b[38;5;250m\u001b[39m\u001b[38;5;124;03m\"\"\"Returns a PIL image containing a drawing of the molecule\u001b[39;00m\n\u001b[1;32m    204\u001b[0m \n\u001b[1;32m    205\u001b[0m \u001b[38;5;124;03m    ARGUMENTS:\u001b[39;00m\n\u001b[0;32m   (...)\u001b[0m\n\u001b[1;32m    230\u001b[0m \u001b[38;5;124;03m      a PIL Image object\u001b[39;00m\n\u001b[1;32m    231\u001b[0m \u001b[38;5;124;03m\"\"\"\u001b[39;00m\n\u001b[1;32m    232\u001b[0m \u001b[38;5;28;01mif\u001b[39;00m \u001b[38;5;129;01mnot\u001b[39;00m mol:\n\u001b[0;32m--> 233\u001b[0m   \u001b[38;5;28;01mraise\u001b[39;00m \u001b[38;5;167;01mValueError\u001b[39;00m(\u001b[38;5;124m'\u001b[39m\u001b[38;5;124mNull molecule provided\u001b[39m\u001b[38;5;124m'\u001b[39m)\n\u001b[1;32m    234\u001b[0m \u001b[38;5;28;01mif\u001b[39;00m canvas \u001b[38;5;129;01mis\u001b[39;00m \u001b[38;5;129;01mnot\u001b[39;00m \u001b[38;5;28;01mNone\u001b[39;00m \u001b[38;5;129;01mor\u001b[39;00m \u001b[38;5;129;01mnot\u001b[39;00m \u001b[38;5;28mhasattr\u001b[39m(rdMolDraw2D, \u001b[38;5;124m'\u001b[39m\u001b[38;5;124mMolDraw2DCairo\u001b[39m\u001b[38;5;124m'\u001b[39m):\n\u001b[1;32m    235\u001b[0m   \u001b[38;5;28;01mreturn\u001b[39;00m _legacyMolToImage(mol, size, kekulize, wedgeBonds, fitImage, options, canvas, \u001b[38;5;241m*\u001b[39m\u001b[38;5;241m*\u001b[39mkwargs)\n",
      "\u001b[0;31mValueError\u001b[0m: Null molecule provided"
     ]
    }
   ],
   "source": [
    "from rdkit import Chem\n",
    "from rdkit.Chem import Draw\n",
    "from rdkit.Chem.Draw import IPythonConsole\n",
    "from PIL import Image, ImageTk\n",
    "import tkinter as tk\n",
    "\n",
    "# Enable stereo annotation\n",
    "IPythonConsole.drawOptions.addStereoAnnotation = True\n",
    "\n",
    "# Create a molecule\n",
    "mol = Chem.MolFromSmiles('CC@HC(=O)O')\n",
    "\n",
    "# Generate an image of the molecule\n",
    "img = Draw.MolToImage(mol)\n",
    "\n",
    "# Create a tkinter window\n",
    "root = tk.Tk()\n",
    "\n",
    "# Convert the image for tkinter\n",
    "photo = ImageTk.PhotoImage(img)\n",
    "\n",
    "# Add the image to a tkinter label\n",
    "label = tk.Label(root, image=photo)\n",
    "label.pack()\n",
    "\n",
    "# Run the tkinter window\n",
    "root.mainloop()"
   ]
  }
 ],
 "metadata": {
  "kernelspec": {
   "display_name": "Python 3 (ipykernel)",
   "language": "python",
   "name": "python3"
  },
  "language_info": {
   "codemirror_mode": {
    "name": "ipython",
    "version": 3
   },
   "file_extension": ".py",
   "mimetype": "text/x-python",
   "name": "python",
   "nbconvert_exporter": "python",
   "pygments_lexer": "ipython3",
   "version": "3.10.13"
  }
 },
 "nbformat": 4,
 "nbformat_minor": 5
}
