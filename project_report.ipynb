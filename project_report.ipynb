{
 "cells": [
  {
   "cell_type": "markdown",
   "id": "2357c573-d7ee-48f8-aca5-7fe68a87301d",
   "metadata": {},
   "source": [
    "# The importance of understanding the chemicals\n",
    "\n",
    "Efficient access to molecular information is vital for scientific analysis and understanding. Traditional methods of data retrieval often involve manual processes, which can be time-consuming and prone to errors, sometimes yielding no results at all.\n",
    "\n",
    "Our Jupyter notebook introduces a solution: a code designed to extract molecular insights directly from molecule names. This code offers a streamlined approach, enabling users to swiftly obtain crucial details about chemical structure, chirality, and ring composition as well as other key metrics.\n",
    "\n",
    "Through this notebook, we highlight the importance, functionality, and uniqueness of our molecular information extraction code. By leveraging its various functions, researchers can accelerate their analyses and deepen their understanding of molecular properties. Furthermore, the visual aid provided by our extension enhances comprehension when working with molecules.\n",
    "\n",
    "We believe that this code and extension will assist scientific research efforts, providing researchers with tools for comprehending the molecules they work with and extracting further information when examining scientific literature."
   ]
  },
  {
   "cell_type": "markdown",
   "id": "738880e2-1c04-4fe5-a9a5-3ba38e773f6a",
   "metadata": {},
   "source": [
    "# Extracting basic information from the name of the molecule\n",
    "\n",
    "To extract the SMILES notation from the name of a molecule, the code will utilize the PubChem database, a reliable source known for its vast collection of molecular information. While SMILES notation is commonly used in computational chemistry, it may not be as familiar to chemists who often identify molecules by their names. Therefore, the code prioritizes accepting molecule names as input, including trivial names like \"Curcumin,\" CAS numbers, or systematic names.\n",
    "\n",
    "This approach ensures user-friendliness and accessibility, catering to chemists who are more accustomed to referring to molecules by their names rather than their SMILES notation. By leveraging the PubChem database, the code guarantees the validity and accuracy of the extracted information, enhancing the reliability of the results obtained.\n",
    "\n",
    "Given the completeness of the PubChem data base several other important information can be extracted from the name as shown down below, indicating some of the most crucial aspects of a molecules."
   ]
  },
  {
   "cell_type": "raw",
   "id": "80a351c1-db4d-4c28-862b-a737f1891a69",
   "metadata": {},
   "source": [
    "#code for compound information\n",
    "from MOLinterface import get_compound_info"
   ]
  },
  {
   "cell_type": "markdown",
   "id": "8b131a94-9ad6-45c2-9a52-7458aec5469c",
   "metadata": {},
   "source": [
    "As demonstrated here, the code prints basic information for Curcumin, including the IUPAC name, SMILES code, molecular formula, and molar mass.\n",
    "\n",
    "This initial function serves as a primary source of information for the molecule, providing the SMILES code, which will be used for further structural analysis."
   ]
  },
  {
   "cell_type": "code",
   "execution_count": 170,
   "id": "55de2b29-3f4b-49d2-9b8a-11df2803afd3",
   "metadata": {},
   "outputs": [],
   "source": [
    "import pubchempy as pcp # Imports the library containing the infos on the molecules\n",
    "from rdkit import Chem"
   ]
  },
  {
   "cell_type": "code",
   "execution_count": 186,
   "id": "fb9b4fe9-c9f8-460c-a15e-ce87a0e87808",
   "metadata": {},
   "outputs": [],
   "source": [
    "def get_compound_info(molecule_name, smarts_patterns):\n",
    "    compounds = pcp.get_compounds(molecule_name, 'name') # Get compounds based on the molecule name\n",
    "\n",
    "    if compounds:\n",
    "        compound = compounds[0]  # Take the first result (assuming it's the correct one)\n",
    "        iupac_name = compound.iupac_name\n",
    "        smiles_code = compound.isomeric_smiles\n",
    "        molar_mass = compound.molecular_weight\n",
    "        atomic_formula = compound.molecular_formula\n",
    "            \n",
    "            # Retreaves the infos we want to display\n",
    "        planar_molecule = Chem.MolFromSmiles(smiles_code)\n",
    "            # Create a planar molecule object from the SMILES code\n",
    "            \n",
    "            \n",
    "        stereo_centers = Chem.FindMolChiralCenters(planar_molecule, includeUnassigned=True)\n",
    "        num_stereo_centers = len(stereo_centers)\n",
    "        infos = {\n",
    "            \"iupac_name\": iupac_name,\n",
    "            \"smiles_code\": smiles_code,\n",
    "            \"molar_mass\": molar_mass,\n",
    "            \"atomic_formula\": atomic_formula,\n",
    "            \"planar_molecule\": planar_molecule,\n",
    "            \"num_stereo_centers\": num_stereo_centers,\n",
    "            \"stereo_centers\": stereo_centers,\n",
    "        }    \n",
    "            \n",
    "        return infos\n",
    "    else:\n",
    "        return{\"error\": \"Compound not found\"}"
   ]
  },
  {
   "cell_type": "code",
   "execution_count": 189,
   "id": "97c7fa46-5f32-4bb5-a7c8-2126b4193a57",
   "metadata": {},
   "outputs": [
    {
     "name": "stdout",
     "output_type": "stream",
     "text": [
      "IUPAC Name: (1E,6E)-1,7-bis(4-hydroxy-3-methoxyphenyl)hepta-1,6-diene-3,5-dione\n",
      "SMILES Code: COC1=C(C=CC(=C1)/C=C/C(=O)CC(=O)/C=C/C2=CC(=C(C=C2)O)OC)O\n",
      "Atomic Formula: C21H20O6\n",
      "Molar Mass: 368.4 g/mol\n",
      "Number of Stereogenic Centers: 0\n",
      "Position of Stereogenic Centers: []\n"
     ]
    }
   ],
   "source": [
    "molecule_name = \"Curcumin\"\n",
    "result = get_compound_info(molecule_name, smarts_patterns)\n",
    "if result:\n",
    "    print(f\"IUPAC Name: {result['iupac_name']}\")\n",
    "    print(f\"SMILES Code: {result['smiles_code']}\")\n",
    "    print(f\"Atomic Formula: {result['atomic_formula']}\")\n",
    "    print(f\"Molar Mass: {result['molar_mass']} g/mol\")\n",
    "    print(f\"Number of Stereogenic Centers: {result['num_stereo_centers']}\")\n",
    "    print(f\"Position of Stereogenic Centers: {result['stereo_centers']}\")\n",
    "else:\n",
    "    print(f\"No compound found for '{molecule_name}'\")"
   ]
  },
  {
   "cell_type": "markdown",
   "id": "c5452db8-2061-4fc7-926b-de6196149eed",
   "metadata": {},
   "source": [
    "As shown here by the trivial name that is mostly used for this molecule the code will find its systematic IUPAC name as well as the smiles code, the atomic formula and its molar mass as well as the information about the chiral centers."
   ]
  },
  {
   "cell_type": "markdown",
   "id": "d059a1bf-56d9-4477-be4f-b8b2086adcfe",
   "metadata": {},
   "source": [
    "## IUPAC Name\n",
    "When checking directly from the IUPAC name the code will as well print the expected results just as for its trivial name. "
   ]
  },
  {
   "cell_type": "code",
   "execution_count": 198,
   "id": "270da685-97c7-4864-b438-6b3d4aa0ea29",
   "metadata": {},
   "outputs": [
    {
     "name": "stdout",
     "output_type": "stream",
     "text": [
      "IUPAC Name: (1E,6E)-1,7-bis(4-hydroxy-3-methoxyphenyl)hepta-1,6-diene-3,5-dione\n",
      "SMILES Code: COC1=C(C=CC(=C1)/C=C/C(=O)CC(=O)/C=C/C2=CC(=C(C=C2)O)OC)O\n",
      "Atomic Formula: C21H20O6\n",
      "Molar Mass: 368.4 g/mol\n",
      "Number of Stereogenic Centers: 0\n",
      "Position of Stereogenic Centers: []\n"
     ]
    }
   ],
   "source": [
    "molecule_name = \"(1E,6E)-1,7-bis(4-hydroxy-3-methoxyphenyl)hepta-1,6-diene-3,5-dione\"\n",
    "result = get_compound_info(molecule_name, smarts_patterns)\n",
    "if result:\n",
    "    print(f\"IUPAC Name: {result['iupac_name']}\")\n",
    "    print(f\"SMILES Code: {result['smiles_code']}\")\n",
    "    print(f\"Atomic Formula: {result['atomic_formula']}\")\n",
    "    print(f\"Molar Mass: {result['molar_mass']} g/mol\")\n",
    "    print(f\"Number of Stereogenic Centers: {result['num_stereo_centers']}\")\n",
    "    print(f\"Position of Stereogenic Centers: {result['stereo_centers']}\")\n",
    "else:\n",
    "    print(f\"No compound found for '{molecule_name}'\")"
   ]
  },
  {
   "cell_type": "markdown",
   "id": "cf3182d2-e7de-4de5-b07b-c37bf8aef7a5",
   "metadata": {},
   "source": [
    "## CAS Number\n",
    "Even the CAS number can be used to extract the molecules information as shown down below. How cool is that?"
   ]
  },
  {
   "cell_type": "code",
   "execution_count": 194,
   "id": "bd1fe63d-77bf-41ad-acba-3aea80efe3c2",
   "metadata": {},
   "outputs": [
    {
     "name": "stdout",
     "output_type": "stream",
     "text": [
      "IUPAC Name: (1E,6E)-1,7-bis(4-hydroxy-3-methoxyphenyl)hepta-1,6-diene-3,5-dione\n",
      "SMILES Code: COC1=C(C=CC(=C1)/C=C/C(=O)CC(=O)/C=C/C2=CC(=C(C=C2)O)OC)O\n",
      "Atomic Formula: C21H20O6\n",
      "Molar Mass: 368.4 g/mol\n",
      "Number of Stereogenic Centers: 0\n",
      "Position of Stereogenic Centers: []\n"
     ]
    }
   ],
   "source": [
    "molecule_name = \"458-37-7\"\n",
    "result = get_compound_info(molecule_name, smarts_patterns)\n",
    "if result:\n",
    "    print(f\"IUPAC Name: {result['iupac_name']}\")\n",
    "    print(f\"SMILES Code: {result['smiles_code']}\")\n",
    "    print(f\"Atomic Formula: {result['atomic_formula']}\")\n",
    "    print(f\"Molar Mass: {result['molar_mass']} g/mol\")\n",
    "    print(f\"Number of Stereogenic Centers: {result['num_stereo_centers']}\")\n",
    "    print(f\"Position of Stereogenic Centers: {result['stereo_centers']}\")\n",
    "else:\n",
    "    print(f\"No compound found for '{molecule_name}'\")"
   ]
  },
  {
   "cell_type": "markdown",
   "id": "f9cab8d8-5b6e-4383-bce4-7d187f07ad80",
   "metadata": {},
   "source": [
    "## False name with Typo\n",
    "However if the name of the molecule has a typo as here in \"Crucumin\" the code will raise the error that there is no such compouns."
   ]
  },
  {
   "cell_type": "code",
   "execution_count": 197,
   "id": "efdc93fb-d6f4-4299-bd94-5b0cabcb205f",
   "metadata": {},
   "outputs": [
    {
     "ename": "KeyError",
     "evalue": "'iupac_name'",
     "output_type": "error",
     "traceback": [
      "\u001b[0;31m---------------------------------------------------------------------------\u001b[0m",
      "\u001b[0;31mKeyError\u001b[0m                                  Traceback (most recent call last)",
      "Cell \u001b[0;32mIn[197], line 4\u001b[0m\n\u001b[1;32m      2\u001b[0m result \u001b[38;5;241m=\u001b[39m get_compound_info(molecule_name, smarts_patterns)\n\u001b[1;32m      3\u001b[0m \u001b[38;5;28;01mif\u001b[39;00m result:\n\u001b[0;32m----> 4\u001b[0m     \u001b[38;5;28mprint\u001b[39m(\u001b[38;5;124mf\u001b[39m\u001b[38;5;124m\"\u001b[39m\u001b[38;5;124mIUPAC Name: \u001b[39m\u001b[38;5;132;01m{\u001b[39;00m\u001b[43mresult\u001b[49m\u001b[43m[\u001b[49m\u001b[38;5;124;43m'\u001b[39;49m\u001b[38;5;124;43miupac_name\u001b[39;49m\u001b[38;5;124;43m'\u001b[39;49m\u001b[43m]\u001b[49m\u001b[38;5;132;01m}\u001b[39;00m\u001b[38;5;124m\"\u001b[39m)\n\u001b[1;32m      5\u001b[0m     \u001b[38;5;28mprint\u001b[39m(\u001b[38;5;124mf\u001b[39m\u001b[38;5;124m\"\u001b[39m\u001b[38;5;124mSMILES Code: \u001b[39m\u001b[38;5;132;01m{\u001b[39;00mresult[\u001b[38;5;124m'\u001b[39m\u001b[38;5;124msmiles_code\u001b[39m\u001b[38;5;124m'\u001b[39m]\u001b[38;5;132;01m}\u001b[39;00m\u001b[38;5;124m\"\u001b[39m)\n\u001b[1;32m      6\u001b[0m     \u001b[38;5;28mprint\u001b[39m(\u001b[38;5;124mf\u001b[39m\u001b[38;5;124m\"\u001b[39m\u001b[38;5;124mAtomic Formula: \u001b[39m\u001b[38;5;132;01m{\u001b[39;00mresult[\u001b[38;5;124m'\u001b[39m\u001b[38;5;124matomic_formula\u001b[39m\u001b[38;5;124m'\u001b[39m]\u001b[38;5;132;01m}\u001b[39;00m\u001b[38;5;124m\"\u001b[39m)\n",
      "\u001b[0;31mKeyError\u001b[0m: 'iupac_name'"
     ]
    }
   ],
   "source": [
    "molecule_name = \"Crucumin\"\n",
    "result = get_compound_info(molecule_name, smarts_patterns)\n",
    "if result:\n",
    "    print(f\"IUPAC Name: {result['iupac_name']}\")\n",
    "    print(f\"SMILES Code: {result['smiles_code']}\")\n",
    "    print(f\"Atomic Formula: {result['atomic_formula']}\")\n",
    "    print(f\"Molar Mass: {result['molar_mass']} g/mol\")\n",
    "    print(f\"Number of Stereogenic Centers: {result['num_stereo_centers']}\")\n",
    "    print(f\"Position of Stereogenic Centers: {result['stereo_centers']}\")\n",
    "else:\n",
    "    print(f\"No compound found for '{molecule_name}'\")"
   ]
  },
  {
   "cell_type": "markdown",
   "id": "91f6556d-98d6-4985-b012-7b4390442432",
   "metadata": {},
   "source": [
    "## Checking for isomeric strings for chiral molecules\n",
    "Now, all this information can be verified and compared. The code consistently prints the same results for different names of the same molecule. If a typo occurs, the code will indicate that there is no molecule with that specific name in the database.\n",
    "\n",
    "An important feature is that the code always prints the specific SMILES notation for the given isomer, which is crucial for other functions that rely on this output. For example, you can verify this by comparing D-Glucose to L-Glucose, as shown below."
   ]
  },
  {
   "cell_type": "code",
   "execution_count": 27,
   "id": "9905009d-f829-4e3c-8d8b-df87713b89ca",
   "metadata": {},
   "outputs": [
    {
     "name": "stdout",
     "output_type": "stream",
     "text": [
      "IUPAC Name: (3R,4S,5S,6R)-6-(hydroxymethyl)oxane-2,3,4,5-tetrol\n",
      "SMILES Code: C([C@@H]1[C@H]([C@@H]([C@H](C(O1)O)O)O)O)O\n",
      "Atomic Formula: C6H12O6\n",
      "Molar Mass: 180.16 g/mol\n"
     ]
    }
   ],
   "source": [
    "molecule_name = \"D-Glucose\"\n",
    "result = get_compound_info(molecule_name)\n",
    "if result:\n",
    "    print(f\"IUPAC Name: {result['iupac_name']}\")\n",
    "    print(f\"SMILES Code: {result['smiles_code']}\")\n",
    "    print(f\"Atomic Formula: {result['atomic_formula']}\")\n",
    "    print(f\"Molar Mass: {result['molar_mass']} g/mol\")\n",
    "    \n",
    "else:\n",
    "    print(f\"No compound found for '{molecule_name}'\")"
   ]
  },
  {
   "cell_type": "code",
   "execution_count": null,
   "id": "94a78edc-c156-4fa9-a4c9-1ca60b1fa2c4",
   "metadata": {},
   "outputs": [],
   "source": []
  },
  {
   "cell_type": "code",
   "execution_count": 61,
   "id": "f0d9fc4a-b9f6-4f5a-a30a-64c548df48ce",
   "metadata": {},
   "outputs": [
    {
     "name": "stdout",
     "output_type": "stream",
     "text": [
      "IUPAC Name: (2S,3R,4S,5S)-2,3,4,5,6-pentahydroxyhexanal\n",
      "SMILES Code: C([C@@H]([C@@H]([C@H]([C@@H](C=O)O)O)O)O)O\n",
      "Atomic Formula: C6H12O6\n",
      "Molar Mass: 180.16 g/mol\n"
     ]
    }
   ],
   "source": [
    "molecule_name = \"L-Glucose\"\n",
    "result = get_compound_info(molecule_name)\n",
    "if result:\n",
    "    print(f\"IUPAC Name: {result['iupac_name']}\")\n",
    "    print(f\"SMILES Code: {result['smiles_code']}\")\n",
    "    print(f\"Atomic Formula: {result['atomic_formula']}\")\n",
    "    print(f\"Molar Mass: {result['molar_mass']} g/mol\")\n",
    "    \n",
    "else:\n",
    "    print(f\"No compound found for '{molecule_name}'\")"
   ]
  },
  {
   "cell_type": "markdown",
   "id": "390df3c2-8dae-4d04-ab08-b7db5170ac1b",
   "metadata": {},
   "source": [
    "# Finding Chemical groups in a molecule from the smiles\n",
    "\n",
    "The first function of the code successfully finds the SMILES notation along with other key elements such as the molecule's IUPAC name, molecular formula, and molar mass. However, the rest of the code will primarily rely on the SMILES notation.\n",
    "\n",
    "In scientific research and laboratory work, understanding the chemical groups present in a molecule is crucial, as these groups determine the molecule's behavior. This knowledge is especially important in synthesis labs, where considering all possible side reactions is essential for optimizing reaction conditions and achieving high yields.\n",
    "\n",
    "The second function of our code identifies chemical groups within a molecule. It uses a dictionary of SMARTS patterns to find these groups in the molecule's SMILES notation and lists them in a dictionary. This function is critical for analyzing the chemical structure and predicting the molecule's reactivity."
   ]
  },
  {
   "cell_type": "markdown",
   "id": "c1157a43-3640-44d3-a137-468c725350c6",
   "metadata": {},
   "source": [
    "## SMARTS\n",
    "\n",
    "The specific SMARTS groups were carefully selected to minimize analysis errors. Using simple SMARTS patterns can lead to incorrect detections, such as identifying both a ketone and an alcohol in a carboxylic acid, which would not provide the qualitative outputs expected from this code.\n",
    "\n",
    "It's important to note that the SMARTS list is not exhaustive and was primarily created manually. Additional chemical groups can be added if necessary. Due to the manual nature of this process, there is a possibility of errors, so each result should be reviewed carefully."
   ]
  },
  {
   "cell_type": "code",
   "execution_count": 125,
   "id": "137982cb-1f83-4a25-b8a6-3158ed96b9cc",
   "metadata": {},
   "outputs": [],
   "source": [
    "# SMARTS patterns to recognize chemical groups, better than smiles for multiple compnent groups like carboxylic acid, imide etc....\n",
    "# The list is not at all complete and was mostly set up manually, many more groups could be added if necessary!\n",
    "smarts_patterns = {\n",
    "    '[C]=[C]': 'Alkene',\n",
    "    '[CX2]#[CX2]': 'Alkyne',\n",
    "    '[CX3]=[CX2]=[CX3]': 'Allene',\n",
    "    '[ClX1][CX4]': 'Alkylchloride',\n",
    "    '[FX1][CX4]': 'Alkylfluoride',\n",
    "    '[BrX1][CX4]': 'Alkylbromide',\n",
    "    '[IX1][CX4]': 'Alkyliodide',\n",
    "    '[OX2H][CX4H2;!$(C([OX2H])[O,S,#7,#15])]': 'Primary_alcohol',\n",
    "    '[OX2H][CX4H;!$(C([OX2H])[O,S,#7,#15])]': 'Secondary_alcohol',\n",
    "    '[OX2H][CX4D4;!$(C([OX2H])[O,S,#7,#15])]': 'Tertiary_alcohol',\n",
    "    '[OX2]([CX4;!$(C([OX2])[O,S,#7,#15,F,Cl,Br,I])])[CX4;!$(C([OX2])[O,S,#7,#15])]': 'Dialkylether',\n",
    "    '[SX2]([CX4;!$(C([OX2])[O,S,#7,#15,F,Cl,Br,I])])[CX4;!$(C([OX2])[O,S,#7,#15])]': 'Dialkylthioether',\n",
    "    '[OX2](c)[CX4;!$(C([OX2])[O,S,#7,#15,F,Cl,Br,I])]': 'Alkylarylether',\n",
    "    '[c][OX2][c]': 'Diarylether',\n",
    "    '[SX2](c)[CX4;!$(C([OX2])[O,S,#7,#15,F,Cl,Br,I])]': 'Alkylarylthioether',\n",
    "    '[c][SX2][c]': 'Diarylthioether',\n",
    "    '[O+;!$([O]~[!#6]);!$([S]*~[#7,#8,#15,#16])]': 'Oxonium',\n",
    "    '[NX3H2+0,NX4H3+;!$([N][!C]);!$([N]*~[#7,#8,#15,#16])]': 'Primary_aliph_amine',\n",
    "    '[NX3H1+0,NX4H2+;!$([N][!C]);!$([N]*~[#7,#8,#15,#16])]': 'Secondary_aliph_amine',\n",
    "    '[NX3H0+0,NX4H1+;!$([N][!C]);!$([N]*~[#7,#8,#15,#16])]': 'Tertiary_aliph_amine',\n",
    "    '[NX4H0+;!$([N][!C]);!$([N]*~[#7,#8,#15,#16])]': 'Quaternary_aliph_ammonium',\n",
    "    '[NX3H2+0,NX4H3+]c': 'Primary_arom_amine',\n",
    "    '[NX3H1+0,NX4H2+;!$([N][!c]);!$([N]*~[#7,#8,#15,#16])]': 'Secondary_arom_amine',\n",
    "    '[NX3H0+0,NX4H1+;!$([N][!c]);!$([N]*~[#7,#8,#15,#16])]': 'Tertiary_arom_amine',\n",
    "    '[NX4H0+;!$([N][!c]);!$([N]*~[#7,#8,#15,#16])]': 'Quaternary_arom_ammonium',\n",
    "    '[NX3H1+0,NX4H2+;$([N]([c])[C]);!$([N]*~[#7,#8,#15,#16])]': 'Secondary_mixed_amine',\n",
    "    '[NX3H0+0,NX4H1+;$([N]([c])([C])[#6]);!$([N]*~[#7,#8,#15,#16])]': 'Tertiary_mixed_amine',\n",
    "    '[NX4H0+;$([N]([c])([C])[#6][#6]);!$([N]*~[#7,#8,#15,#16])]': 'Quaternary_mixed_ammonium',\n",
    "    '[N+;!$([N]~[!#6]);!$(N=*);!$([N]*~[#7,#8,#15,#16])]': 'Ammonium',\n",
    "    '[SX2H][CX4;!$(C([SX2H])~[O,S,#7,#15])]': 'Alkylthiol',\n",
    "    '[SX2]([CX4;!$(C([SX2])[O,S,#7,#15,F,Cl,Br,I])])[CX4;!$(C([SX2])[O,S,#7,#15])]': 'Dialkylthioether',\n",
    "    '[SX2](c)[CX4;!$(C([SX2])[O,S,#7,#15])]': 'Alkylarylthioether',\n",
    "    '[SX2D2][SX2D2]': 'Disulfide',\n",
    "    '[OX2H][OX2]': 'Hydroperoxide',\n",
    "    '[OX2D2][OX2D2]': 'Peroxo',\n",
    "    '[LiX1][#6,#14]': 'Organolithium_compounds',\n",
    "    '[MgX2][#6,#14]': 'Organomagnesium_compounds',\n",
    "    '[!#1;!#5;!#6;!#7;!#8;!#9;!#14;!#15;!#16;!#17;!#33;!#34;!#35;!#52;!#53;!#85]~[#6;!-]': 'Organometallic_compounds',\n",
    "    '[$([CX3H][#6]),$([CX3H2])]=[OX1]': 'Aldehyde',\n",
    "    '[#6]([#6])(=O)[#6]': 'Ketone',\n",
    "    'C=C=O': 'Ketene',\n",
    "    '[$([CX3H][#6]),$([CX3H2])]=[SX1]': 'Thioaldehyde',\n",
    "    '[#6][CX3](=[SX1])[#6]': 'Thioketone',\n",
    "    'C=C=S': 'Thioketene',\n",
    "    '[NX2;$([N][#6]),$([NH]);!$([N][CX3]=[#7,#8,#15,#16])]=[CX3;$([CH2]),$([CH][#6]),$([C]([#6])[#6])]': 'Imine',\n",
    "    '[NX3+;!$([N][!#6]);!$([N][CX3]=[#7,#8,#15,#16])]': 'Immonium',\n",
    "    '[NX2](=[CX3;$([CH2]),$([CH][#6]),$([C]([#6])[#6])])[OX2H]': 'Oxime',\n",
    "    '[NX2](=[CX3;$([CH2]),$([CH][#6]),$([C]([#6])[#6])])[OX2][#6;!$(C=[#7,#8])]' : 'Oximether',\n",
    "    '[OX2]([#6;!$(C=[O,S,N])])[CX4;!$(C(O)(O)[!#6])][OX2][#6;!$(C=[O,S,N])]': 'Acetal',\n",
    "    '[OX2H][CX4;!$(C(O)(O)[!#6])][OX2][#6;!$(C=[O,S,N])]': 'Hemiacetal',\n",
    "    '[NX3v3;!$(NC=[#7,#8,#15,#16])]([#6])[CX4;!$(C(N)(N)[!#6])][NX3v3;!$(NC=[#7,#8,#15,#16])][#6]': 'Aminal',\n",
    "    '[NX3v3;!$(NC=[#7,#8,#15,#16])]([#6])[CX4;!$(C(N)(N)[!#6])][OX2H]': 'Hemiaminal',\n",
    "    '[SX2]([#6;!$(C=[O,S,N])])[CX4;!$(C(S)(S)[!#6])][SX2][#6;!$(C=[O,S,N])]': 'Thioacetal',\n",
    "    '[SX2]([#6;!$(C=[O,S,N])])[CX4;!$(C(S)(S)[!#6])][OX2H]': 'Thiohemiacetal',\n",
    "    '[NX3v3,SX2,OX2;!$(*C=[#7,#8,#15,#16])][CX4;!$(C([N,S,O])([N,S,O])[!#6])][FX1,ClX1,BrX1,IX1]': 'Halogen_acetal_like',\n",
    "    '[NX3v3,SX2,OX2;!$(*C=[#7,#8,#15,#16])][CX4;!$(C([N,S,O])([N,S,O])[!#6])][FX1,ClX1,BrX1,IX1,NX3v3,SX2,OX2;!$(*C=[#7,#8,#15,#16])]': 'Acetal_like',\n",
    "    '[NX3v3,SX2,OX2;$(**=[#7,#8,#15,#16])][CX4;!$(C([N,S,O])([N,S,O])[!#6])][FX1,ClX1,BrX1,IX1]': 'Halogenmethylen_ester_and_similar',\n",
    "    '[NX3v3,SX2,OX2;$(**=[#7,#8,#15,#16])][CX4;!$(C([N,S,O])([N,S,O])[!#6])][NX3v3,SX2,OX2;!$(*C=[#7,#8,#15,#16])]': 'NOS_methylen_ester_and_similar',\n",
    "    '[NX3v3,SX2,OX2;$(**=[#7,#8,#15,#16])][CX4;!$(C([N,S,O])([N,S,O])[!#6])][FX1,ClX1,BrX1,IX1,NX3v3,SX2,OX2;!$(*C=[#7,#8,#15,#16])]': 'Hetero_methylen_ester_and_similar',\n",
    "    '[NX1]#[CX2][CX4;$([CH2]),$([CH]([CX2])[#6]),$(C([CX2])([#6])[#6])][OX2H]': 'Cyanhydrine',\n",
    "    '[ClX1][CX3]=[CX3]': 'Chloroalkene',\n",
    "    '[FX1][CX3]=[CX3]': 'Fluoroalkene',\n",
    "    '[BrX1][CX3]=[CX3]': 'Bromoalkene',\n",
    "    '[IX1][CX3]=[CX3]': 'Iodoalkene',\n",
    "    '[OX2H][CX3;$([H1]),$(C[#6])]=[CX3]': 'Enol',\n",
    "    '[OX2H][CX3;$([H1]),$(C[#6])]=[CX3;$([H1]),$(C[#6])][OX2H]': 'Endiol',\n",
    "    '[OX2]([#6;!$(C=[N,O,S])])[CX3;$([H0][#6]),$([H1])]=[CX3]': 'Enolether',\n",
    "    '[OX2]([CX3]=[OX1])[#6X3;$([#6][#6]),$([H1])]=[#6X3;!$(C[OX2H])]': 'Enolester',\n",
    "    '[NX3;$([NH2][CX3]),$([NH1]([CX3])[#6]),$([N]([CX3])([#6])[#6]);!$([N]*=[#7,#8,#15,#16])][CX3;$([CH]),$([C][#6])]=[CX3]': 'Enamine',\n",
    "    '[SX2H][CX3;$([H1]),$(C[#6])]=[CX3]': 'Thioenol',\n",
    "    '[SX2]([#6;!$(C=[N,O,S])])[CX3;$(C[#6]),$([CH])]=[CX3]': 'Thioenolether',\n",
    "    '[CX3;$([R0][#6]),$([H1R0])](=[OX1])[ClX1]': 'Acylchloride',\n",
    "    '[CX3;$([R0][#6]),$([H1R0])](=[OX1])[FX1]': 'Acylfluoride',\n",
    "    '[CX3;$([R0][#6]),$([H1R0])](=[OX1])[BrX1]': 'Acylbromide',\n",
    "    '[CX3;$([R0][#6]),$([H1R0])](=[OX1])[IX1]': 'Acyliodide',\n",
    "    '[CX3;$([R0][#6]),$([H1R0])](=[OX1])[FX1,ClX1,BrX1,IX1]': 'Acylhalide',\n",
    "    '[CX3;$([R0][#6]),$([H1R0])](=[OX1])[$([OX2H]),$([OX1-])]': 'Carboxylic_acid',\n",
    "    '[CX3;$([R0][#6]),$([H1R0])](=[OX1])[OX2][#6;!$(C=[O,N,S])]': 'Carboxylic_ester',\n",
    "    '[#6][#6X3R](=[OX1])[#8X2][#6;!$(C=[O,N,S])]': 'Lactone',\n",
    "    '[CX3;$([H0][#6]),$([H1])](=[OX1])[#8X2][CX3;$([H0][#6]),$([H1])](=[OX1])': 'Carboxylic_anhydride',\n",
    "    '[CX3;!R;$([C][#6]),$([CH]);$([C](=[OX1])[$([SX2H]),$([SX1-])]),$([C](=[SX1])[$([OX2H]),$([OX1-])])]': 'Carbothioic_acid',\n",
    "    '[CX3;$([R0][#6]),$([H1R0])](=[OX1])[SX2][#6;!$(C=[O,N,S])]': 'Carbothioic_S_ester',\n",
    "    '[#6][#6X3R](=[OX1])[#16X2][#6;!$(C=[O,N,S])]': 'Carbothioic_S_lactone',\n",
    "    '[CX3;$([H0][#6]),$([H1])](=[SX1])[OX2][#6;!$(C=[O,N,S])]': 'Carbothioic_O_ester',\n",
    "    '[#6][#6X3R](=[SX1])[#8X2][#6;!$(C=[O,N,S])]': 'Carbothioic_O_lactone',\n",
    "    '[CX3;$([H0][#6]),$([H1])](=[SX1])[FX1,ClX1,BrX1,IX1]': 'Carbothioic_halide',\n",
    "    '[CX3;!R;$([C][#6]),$([CH]);$([C](=[SX1])[SX2H])]': 'Carbodithioic_acid',\n",
    "    '[CX3;!R;$([C][#6]),$([CH]);$([C](=[SX1])[SX2][#6;!$(C=[O,N,S])])]': 'Carbodithioic_ester',\n",
    "    '[#6][#6X3R](=[SX1])[#16X2][#6;!$(C=[O,N,S])]': 'Carbodithiolactone',\n",
    "    '[CX3](=[OX1])[NX3H1][CX3](=[OX1])[OX2H1]': 'Amide',\n",
    "    '[CX3;$([R0][#6]),$([H1R0])](=[OX1])[NX3H2]': 'Primary_amide',\n",
    "    '[CX3;$([R0][#6]),$([H1R0])](=[OX1])[#7X3H1][#6;!$(C=[O,N,S])]': 'Secondary_amide',\n",
    "    '[CX3;$([R0][#6]),$([H1R0])](=[OX1])[#7X3H0]([#6;!$(C=[O,N,S])])[#6;!$(C=[O,N,S])]': 'Tertiary_amide',\n",
    "    'c1cccnc1': 'Pyridine_Derivatives',\n",
    "    'c1cnccn1': 'Pyrazine_derivatives',\n",
    "    '[#6R][#6X3R](=[OX1])[#7X3;$([H1][#6;!$(C=[O,N,S])]),$([H0]([#6;!$(C=[O,N,S])])[#6;!$(C=[O,N,S])])]': 'Lactam',\n",
    "    '[#6X3;$([H0][#6]),$([H1])](=[OX1])[#7X3H0]([#6])[#6X3;$([H0][#6]),$([H1])](=[OX1])': 'Alkyl_imide',\n",
    "    '[#6X3;$([H0][#6]),$([H1])](=[OX1])[#7X3H0]([!#6])[#6X3;$([H0][#6]),$([H1])](=[OX1])': 'N_hetero_imide',\n",
    "    '[#6X3;$([H0][#6]),$([H1])](=[OX1])[#7X3H1][#6X3;$([H0][#6]),$([H1])](=[OX1])': 'Imide_acidic',\n",
    "    '[$([CX3;!R][#6]),$([CX3H;!R])](=[SX1])[#7X3;$([H2]),$([H1][#6;!$(C=[O,N,S])]),$([#7]([#6;!$(C=[O,N,S])])[#6;!$(C=[O,N,S])])]': 'Thioamide',\n",
    "    '[#6R][#6X3R](=[SX1])[#7X3;$([H1][#6;!$(C=[O,N,S])]),$([H0]([#6;!$(C=[O,N,S])])[#6;!$(C=[O,N,S])])]': 'Thiolactam',\n",
    "    '[#6X3;$([H0][#6]),$([H1])](=[OX1])[#8X2][#7X2]=,:[#6X3;$([H0]([#6])[#6]),$([H1][#6]),$([H2])]': 'Oximester',\n",
    "    '[NX3;!$(NC=[O,S])][CX3R0;$([H1]),$([H0][#6])]=[NX2;!$(NC=[O,S])]': 'Amidine',\n",
    "    '[CX3;$([H0][#6]),$([H1])](=[OX1])[#7X3;$([H1]),$([H0][#6;!$(C=[O,N,S])])][$([OX2H]),$([OX1-])]': 'Hydroxamic_acid',\n",
    "    '[CX3;$([H0][#6]),$([H1])](=[OX1])[#7X3;$([H1]),$([H0][#6;!$(C=[O,N,S])])][OX2][#6;!$(C=[O,N,S])]': 'Hydroxamic_acid_ester',\n",
    "    '[CX3R0;$([H0][#6]),$([H1])](=[NX2;$([H1]),$([H0][#6;!$(C=[O,N,S])])])[$([OX2H]),$([OX1-])]': 'Imidoacid',\n",
    "    '[#6R][#6X3R](=,:[#7X2;$([H1]),$([H0][#6;!$(C=[O,N,S])])])[$([OX2H]),$([OX1-])]': 'Imidoacid_cyclic',\n",
    "    '[CX3R0;$([H0][#6]),$([H1])](=[NX2;$([H1]),$([H0][#6;!$(C=[O,N,S])])])[OX2][#6;!$(C=[O,N,S])]': 'Imidoester',\n",
    "    '[#6R][#6X3R](=,:[#7X2;$([H1]),$([H0][#6;!$(C=[O,N,S])])])[OX2][#6;!$(C=[O,N,S])]': 'Imidolactone',\n",
    "    '[CX3R0;$([H0][#6]),$([H1])](=[NX2;$([H1]),$([H0][#6;!$(C=[O,N,S])])])[$([SX2H]),$([SX1-])]': 'Imidothioacid',\n",
    "    '[#6R][#6X3R](=,:[#7X2;$([H1]),$([H0][#6;!$(C=[O,N,S])])])[$([OX2H]),$([OX1-])]': 'Imidoacid_cyclic',\n",
    "    '[CX3R0;$([H0][#6]),$([H1])](=[NX2;$([H1]),$([H0][#6;!$(C=[O,N,S])])])[OX2][#6;!$(C=[O,N,S])]': 'Imidoester',\n",
    "    '[#6R][#6X3R](=,:[#7X2;$([H1]),$([H0][#6;!$(C=[O,N,S])])])[OX2][#6;!$(C=[O,N,S])]': 'Imidolactone',\n",
    "    '[CX3R0;$([H0][#6]),$([H1])](=[NX2;$([H1]),$([H0][#6;!$(C=[O,N,S])])])[$([SX2H]),$([SX1-])]': 'Imidothioacid',\n",
    "    '[#6R][#6X3R](=,:[#7X2;$([H1]),$([H0][#6;!$(C=[O,N,S])])])[$([SX2H]),$([SX1-])]': 'Imidothioacid_cyclic',\n",
    "    '[CX3R0;$([H0][#6]),$([H1])](=[NX2;$([H1]),$([H0][#6;!$(C=[O,N,S])])])[SX2][#6;!$(C=[O,N,S])]': 'Imidothioester',\n",
    "    '[#6R][#6X3R](=,:[#7X2;$([H1]),$([H0][#6;!$(C=[O,N,S])])])[SX2][#6;!$(C=[O,N,S])]': 'Imidothiolactone',\n",
    "    '[$([$([#6X3][#6]),$([#6X3H])](=[#7X2v3])[#7X3v3][#7X3v3]),$([$([#6X3][#6]),$([#6X3H])]([#7X3v3])=[#7X2v3][#7X3v3])]': 'Amidrazone',\n",
    "    '[$([#7X3v3;!$(N([#6X3]=[#7X2])C=[O,S])][CX3R0;$([H1]),$([H0][#6])]=[NX2v3;!$(N(=[#6X3][#7X3])C=[O,S])]),$([#7X3v3;!$(N([#6X3]=[#7X2])C=[O,S])][$([CX3R0;$([H1]),$([H0][#6])]=[NX2v3;!$(N(=[#6X3][#7X3])C=[O,S])])])]': 'Amidine',\n",
    "    '[#6][#6X3R;$([H0](=[NX2;!$(N(=[#6X3][#7X3])C=[O,S])])[#7X3;!$(N([#6X3]=[#7X2])C=[O,S])]),$([H0](-[NX3;!$(N([#6X3]=[#7X2])C=[O,S])])=,:[#7X2;!$(N(=[#6X3][#7X3])C=[O,S])])]': 'Imidolactam',\n",
    "    '[CX3R0;$([H0][#6]),$([H1])](=[NX2;$([H1]),$([H0][#6;!$(C=[O,N,S])])])[FX1,ClX1,BrX1,IX1]': 'Imidoylhalide',\n",
    "    '[#6R][#6X3R](=,:[#7X2;$([H1]),$([H0][#6;!$(C=[O,N,S])])])[FX1,ClX1,BrX1,IX1]': 'Imidoylhalide_cyclic',\n",
    "    '[NX3,NX4+;!$([N]~[!#6]);!$([N]*~[#7,#8,#15,#16])][C][CX3](=[OX1])[OX2H,OX1-]': 'Alpha_aminoacid',\n",
    "    '[OX2H][C][CX3](=[OX1])[OX2H,OX1-]': 'Alpha_hydroxyacid',\n",
    "    '[NX3;$([N][CX3](=[OX1])[C][NX3,NX4+])][C][CX3](=[OX1])[NX3;$([N][C][CX3](=[OX1])[NX3,OX2,OX1-])]': 'Peptide_middle',\n",
    "    '[NX3;$([N][CX3](=[OX1])[C][NX3,NX4+])][C][CX3](=[OX1])[OX2H,OX1-]': 'Peptide_C_term',\n",
    "    '[NX3,NX4+;!$([N]~[!#6]);!$([N]*~[#7,#8,#15,#16])][C][CX3](=[OX1])[NX3;$([N][C][CX3](=[OX1])[NX3,OX2,OX1-])]': 'Peptide_N_term',\n",
    "    '[#6][OX2][CX4;$(C[#6]),$([CH])]([OX2][#6])[OX2][#6]': 'Carboxylic_orthoester',\n",
    "    '[CX3]=[CX2]=[OX1]': 'Ketene',\n",
    "    '[#7X2,#8X3,#16X2;$(*[#6,#14])][#6X3]([#7X2,#8X3,#16X2;$(*[#6,#14])])=[#6X3]': 'Ketenacetal',\n",
    "    '[NX1]#[CX2]': 'Nitrile',\n",
    "    '[CX1-]#[NX2+]': 'Isonitrile',\n",
    "    '[#6;!$(C=[O,N,S])][#8X2][#6X3](=[OX1])[#8X2][#6;!$(C=[O,N,S])]': 'Carbonic_acid_dieester',\n",
    "    '[#6;!$(C=[O,N,S])][OX2;!R][CX3](=[OX1])[OX2][FX1,ClX1,BrX1,IX1]': 'Carbonic_acid_esterhalide',\n",
    "    '[#6;!$(C=[O,N,S])][OX2;!R][CX3](=[OX1])[$([OX2H]),$([OX1-])]': 'Carbonic_acid_monoester',\n",
    "    '[#6;!$(C=[O,N,S])][#8X2][#6X3](=[SX1])[#8X2][#6;!$(C=[O,N,S])]': 'Thiocarbonic_acid_dieester',\n",
    "    '[#6;!$(C=[O,N,S])][OX2;!R][CX3](=[SX1])[OX2][FX1,ClX1,BrX1,IX1]': 'Thiocarbonic_acid_esterhalide',\n",
    "    '[#6;!$(C=[O,N,S])][OX2;!R][CX3](=[SX1])[$([OX2H]),$([OX1-])]': 'Thiocarbonic_acid_monoester',\n",
    "    '[#7X3;!$([#7][!#6])][#6X3](=[OX1])[#7X3;!$([#7][!#6])]': 'Urea',\n",
    "    '[#7X3;!$([#7][!#6])][#6X3](=[SX1])[#7X3;!$([#7][!#6])]': 'Thiourea',\n",
    "    '[#7X2;!$([#7][!#6])]=,:[#6X3]([#8X2&!$([#8][!#6]),OX1-])[#7X3;!$([#7][!#6])]': 'Isourea',\n",
    "    '[#7X2;!$([#7][!#6])]=,:[#6X3]([#16X2&!$([#16][!#6]),SX1-])[#7X3;!$([#7][!#6])]': 'Isothiourea',\n",
    "    '[N;v3X3,v4X4+][CX3](=[N;v3X2,v4X3+])[N;v3X3,v4X4+]': 'Guanidine_Derivative',\n",
    "    '[NX3]C(=[OX1])[O;X2H,X1-]': 'Carbaminic_acid',\n",
    "    '[#7X3][#6](=[OX1])[#8X2][#6]': 'Urethan',\n",
    "    '[#7X3][#6](=[OX1])[#7X3][#6](=[OX1])[#7X3]': 'Biuret',\n",
    "    '[#7X3][#7X3][#6X3]([#7X3;!$([#7][#7])])=[OX1]': 'Semicarbazide',\n",
    "    '[#7X3][#7X3][#6X3]([#7X3][#7X3])=[OX1]': 'Carbazide',\n",
    "    '[#7X2](=[#6])[#7X3][#6X3]([#7X3;!$([#7][#7])])=[OX1]': 'Semicarbazone',\n",
    "    '[#7X2](=[#6])[#7X3][#6X3]([#7X3][#7X3])=[OX1]': 'Carbazone',\n",
    "    '[#7X3][#7X3][#6X3]([#7X3;!$([#7][#7])])=[SX1]': 'Thiosemicarbazide',\n",
    "    '[#7X3][#7X3][#6X3]([#7X3][#7X3])=[SX1]': 'Thiocarbazide',\n",
    "    '[#7X2](=[#6])[#7X3][#6X3]([#7X3;!$([#7][#7])])=[SX1]': 'Thiosemicarbazone',\n",
    "    '[#7X2](=[#6])[#7X3][#6X3]([#7X3][#7X3])=[SX1]': 'Thiocarbazone',\n",
    "    '[NX2]=[CX2]=[OX1]': 'Isocyanate',\n",
    "    '[OX2][CX2]#[NX1]': 'Cyanate',\n",
    "    '[NX2]=[CX2]=[SX1]': 'Isothiocyanate',\n",
    "    '[SX2][CX2]#[NX1]': 'Thiocyanate',\n",
    "    '[NX2]=[CX2]=[NX2]': 'Carbodiimide',\n",
    "    '[CX4H0]([O,S,#7])([O,S,#7])([O,S,#7])[O,S,#7,F,Cl,Br,I]': 'Orthocarbonic_derivatives',\n",
    "    '[OX2H][c]': 'Phenol',\n",
    "    '[OX2H][c][c][OX2H]': '1,2-Diphenol',\n",
    "    '[Cl][c]': 'Arylchloride',\n",
    "    '[F][c]': 'Arylfluoride',\n",
    "    '[Br][c]': 'Arylbromide',\n",
    "    '[I][c]': 'Aryliodide',\n",
    "    '[SX2H][c]': 'Arylthiol',\n",
    "    '[c]=[NX2;$([H1]),$([H0][#6;!$([C]=[N,S,O])])]': 'Iminoarene',\n",
    "    '[c]=[OX1]': 'Oxoarene',\n",
    "    '[c]=[SX1]': 'Thioarene',\n",
    "    '[nX3H1+0]': 'Hetero_N_basic_H',\n",
    "    '[nX3H0+0]': 'Hetero_N_basic_no_H',\n",
    "    '[nX2,nX3+]': 'Hetero_N_nonbasic',\n",
    "    '[o]': 'Hetero_O',\n",
    "    '[sX2]': 'Hetero_S',\n",
    "    '[a;!c]': 'Heteroaromatic',\n",
    "    '[!#6;!R0]': 'Heterocylcic',\n",
    "    '[NX2](=[OX1])[O;$([X2]),$([X1-])]': 'Nitrite',\n",
    "    '[SX2][NX2]=[OX1]': 'Thionitrite',\n",
    "    '[$([NX3](=[OX1])(=[OX1])[O;$([X2]),$([X1-])]),$([NX3+]([OX1-])(=[OX1])[O;$([X2]),$([X1-])])]': 'Nitrate',\n",
    "    '[$([NX3](=O)=O),$([NX3+](=O)[O-])][!#8]': 'Nitro',\n",
    "    '[NX2](=[OX1])[!#7;!#8]': 'Nitroso',\n",
    "    '[NX1]~[NX2]~[NX2,NX1]': 'Azide',\n",
    "    '[CX3](=[OX1])[NX2]~[NX2]~[NX1]': 'Acylazide',\n",
    "    '[$([#6]=[NX2+]=[NX1-]),$([#6-]-[NX2+]#[NX1])]': 'Diazo',\n",
    "    '[#6][NX2+]#[NX1]': 'Diazonium',\n",
    "    '[#7;!$(N*=O)][NX2]=[OX1]': 'Nitrosamine',\n",
    "    '[NX2](=[OX1])N-*=O': 'Nitrosamide',\n",
    "    '[$([#7+][OX1-]),$([#7v5]=[OX1]);!$([#7](~[O])~[O]);!$([#7]=[#7])]': 'N-Oxide',\n",
    "    '[NX3;$([H2]),$([H1][#6]),$([H0]([#6])[#6]);!$(NC=[O,N,S])][NX3;$([H2]),$([H1][#6]),$([H0]([#6])[#6]);!$(NC=[O,N,S])]': 'Hydrazine',\n",
    "    '[NX3;$([H2]),$([H1][#6]),$([H0]([#6])[#6]);!$(NC=[O,N,S])][NX2]=[#6]': 'Hydrazone',\n",
    "    '[NX3;$([H2]),$([H1][#6]),$([H0]([#6])[#6]);!$(NC=[O,N,S])][OX2;$([H1]),$(O[#6;!$(C=[N,O,S])])]': 'Hydroxylamine',\n",
    "    '[SX2][NX2]=[OX1]': 'Thionitrite',\n",
    "    '[SX4](=[OX1])(=[OX1])([$([OX2H]),$([OX1-])])[$([OX2H]),$([OX1-])]': 'Sulfuric_acid',\n",
    "    '[SX4](=[OX1])(=[OX1])([$([OX2H]),$([OX1-])])[OX2][#6;!$(C=[O,N,S])]': 'Sulfuric_monoester',\n",
    "    '[SX4](=[OX1])(=[OX1])([OX2][#6;!$(C=[O,N,S])])[OX2][#6;!$(C=[O,N,S])]': 'Sulfuric_diester',\n",
    "    '[SX4](=[OX1])(=[OX1])([#7X3;$([H2]),$([H1][#6;!$(C=[O,N,S])]),$([#7]([#6;!$(C=[O,N,S])])[#6;!$(C=[O,N,S])])])[$([OX2H]),$([OX1-])]': 'Sulfuric_monoamide',\n",
    "    '[SX4](=[OX1])(=[OX1])([#7X3;$([H2]),$([H1][#6;!$(C=[O,N,S])]),$([#7]([#6;!$(C=[O,N,S])])[#6;!$(C=[O,N,S])])])[#7X3;$([H2]),$([H1][#6;!$(C=[O,N,S])]),$([#7]([#6;!$(C=[O,N,S])])[#6;!$(C=[O,N,S])])]': 'Sulfuric_diamide',\n",
    "    '[SX4](=[OX1])(=[OX1])([#7X3][#6;!$(C=[O,N,S])])[OX2][#6;!$(C=[O,N,S])]': 'Sulfuric_esteramide',\n",
    "    '[SX4D4](=[!#6])(=[!#6])([!#6])[!#6]': 'Sulfuric_derivative',\n",
    "    '[SX4;$([H1]),$([H0][#6])](=[OX1])(=[OX1])[$([OX2H]),$([OX1-])]': 'Sulfonic_acid',\n",
    "    '[SX4;$([H1]),$([H0][#6])](=[OX1])(=[OX1])[#7X3;$([H2]),$([H1][#6;!$(C=[O,N,S])]),$([#7]([#6;!$(C=[O,N,S])])[#6;!$(C=[O,N,S])])]': 'Sulfonamide',\n",
    "    '[SX4;$([H1]),$([H0][#6])](=[OX1])(=[OX1])[OX2][#6;!$(C=[O,N,S])]': 'Sulfonic_ester',\n",
    "    '[SX4;$([H1]),$([H0][#6])](=[OX1])(=[OX1])[FX1,ClX1,BrX1,IX1]': 'Sulfonic_halide',\n",
    "    '[SX4;$([H1]),$([H0][#6])](=[!#6])(=[!#6])[!#6]': 'Sulfonic_derivative',\n",
    "    '[SX3;$([H1]),$([H0][#6])](=[OX1])[$([OX2H]),$([OX1-])]': 'Sulfinic_acid',\n",
    "    '[SX3;$([H1]),$([H0][#6])](=[OX1])[#7X3;$([H2]),$([H1][#6;!$(C=[O,N,S])]),$([#7]([#6;!$(C=[O,N,S])])[#6;!$(C=[O,N,S])])]': 'Sulfinic_amide',\n",
    "    '[SX3;$([H1]),$([H0][#6])](=[OX1])[OX2][#6;!$(C=[O,N,S])]': 'Sulfinic_ester',\n",
    "    '[SX3;$([H1]),$([H0][#6])](=[OX1])[FX1,ClX1,BrX1,IX1]': 'Sulfinic_halide',\n",
    "    '[SX3;$([H1]),$([H0][#6])](=[!#6])[!#6]': 'Sulfinic_derivative',\n",
    "    '[SX2;$([H1]),$([H0][#6])][$([OX2H]),$([OX1-])]': 'Sulfenic_acid',\n",
    "    '[SX2;$([H1]),$([H0][#6])][#7X3;$([H2]),$([H1][#6;!$(C=[O,N,S])]),$([#7]([#6;!$(C=[O,N,S])])[#6;!$(C=[O,N,S])])]': 'Sulfenic_amide',\n",
    "    '[SX2;$([H1]),$([H0][#6])][OX2][#6;!$(C=[O,N,S])]': 'Sulfenic_ester',\n",
    "    '[SX2;$([H1]),$([H0][#6])][FX1,ClX1,BrX1,IX1]': 'Sulfenic_halide',\n",
    "    '[SX2;$([H1]),$([H0][#6])][!#6]': 'Sulfenic_derivative',\n",
    "    '[PX4D4](=[OX1])([$([OX2H]),$([OX1-])])([$([OX2H]),$([OX1-])])[$([OX2H]),$([OX1-])]': 'Phosphoric_acid',\n",
    "    '[PX4D4](=[OX1])([$([OX2H]),$([OX1-])])([$([OX2H]),$([OX1-])])[OX2][#6;!$(C=[O,N,S])]' : 'Phosphoric_monoester',\n",
    "    '[PX4D4](=[OX1])([$([OX2H]),$([OX1-])])([OX2][#6;!$(C=[O,N,S])])[OX2][#6;!$(C=[O,N,S])]' : 'Phosphoric_diester',\n",
    "    '[PX4D4](=[OX1])([OX2][#6;!$(C=[O,N,S])])([OX2][#6;!$(C=[O,N,S])])[OX2][#6;!$(C=[O,N,S])]' : 'Phosphoric_triester',\n",
    "    '[PX4D4](=[OX1])([$([OX2H]),$([OX1-])])([$([OX2H]),$([OX1-])])[#7X3;$([H2]),$([H1][#6;!$(C=[O,N,S])]),$([#7]([#6;!$(C=[O,N,S])])[#6;!$(C=[O,N,S])])]' : 'Phosphoric_monoamide',\n",
    "    '[PX4D4](=[OX1])([$([OX2H]),$([OX1-])])([#7X3;$([H2]),$([H1][#6;!$(C=[O,N,S])]),$([#7]([#6;!$(C=[O,N,S])])[#6;!$(C=[O,N,S])])])[#7X3;$([H2]),$([H1][#6;!$(C=[O,N,S])]),$([#7]([#6;!$(C=[O,N,S])])[#6;!$(C=[O,N,S])])]' : 'Phosphoric_diamide',\n",
    "    '[PX4D4](=[OX1])([#7X3;$([H2]),$([H1][#6;!$(C=[O,N,S])]),$([#7]([#6;!$(C=[O,N,S])])[#6;!$(C=[O,N,S])])])([#7X3;$([H2]),$([H1][#6;!$(C=[O,N,S])]),$([#7]([#6;!$(C=[O,N,S])])[#6;!$(C=[O,N,S])])])[#7X3;$([H2]),$([H1][#6;!$(C=[O,N,S])]),$([#7]([#6;!$(C=[O,N,S])])[#6;!$(C=[O,N,S])])]' : 'Phosphoric_triamide',\n",
    "    '[PX4D4](=[OX1])([$([OX2H]),$([OX1-])])([OX2][#6;!$(C=[O,N,S])])[#7X3;$([H2]),$([H1][#6;!$(C=[O,N,S])]),$([#7]([#6;!$(C=[O,N,S])])[#6;!$(C=[O,N,S])])]' : 'Phosphoric_monoestermonoamide',\n",
    "    '[PX4D4](=[OX1])([OX2][#6;!$(C=[O,N,S])])([OX2][#6;!$(C=[O,N,S])])[#7X3;$([H2]),$([H1][#6;!$(C=[O,N,S])]),$([#7]([#6;!$(C=[O,N,S])])[#6;!$(C=[O,N,S])])]' : 'Phosphoric_diestermonoamide',\n",
    "    '[PX4D4](=[OX1])([OX2][#6;!$(C=[O,N,S])])([#7X3;$([H2]),$([H1][#6;!$(C=[O,N,S])]),$([#7]([#6;!$(C=[O,N,S])])[#6;!$(C=[O,N,S])])])[#7X3;$([H2]),$([H1][#6;!$(C=[O,N,S])]),$([#7]([#6;!$(C=[O,N,S])])[#6;!$(C=[O,N,S])])]' : 'Phosphoric_monoesterdiamide',\n",
    "    '[PX4D4](=[!#6])([!#6])([!#6])[!#6]' : 'Phosphoric_acid_derivative',\n",
    "    '[PX4;$([H2]),$([H1][#6]),$([H0]([#6])[#6])](=[OX1])[$([OX2H]),$([OX1-])]': 'Phosphinic_acid',\n",
    "    '[PX4;$([H2]),$([H1][#6]),$([H0]([#6])[#6])](=[OX1])[OX2][#6;!$(C=[O,N,S])]' : 'Phosphinic_ester',\n",
    "    '[PX4;$([H2]),$([H1][#6]),$([H0]([#6])[#6])](=[OX1])[#7X3;$([H2]),$([H1][#6;!$(C=[O,N,S])]),$([#7]([#6;!$(C=[O,N,S])])[#6;!$(C=[O,N,S])])]' : 'Phosphinic_amide',\n",
    "    '[PX4;$([H2]),$([H1][#6]),$([H0]([#6])[#6])](=[!#6])[!#6]' : 'Phosphinic_acid_derivative',\n",
    "    '[PX3;$([H1]),$([H0][#6])]([$([OX2H]),$([OX1-])])[$([OX2H]),$([OX1-])]' : 'Phosphonous_acid',\n",
    "    '[PX3;$([H1]),$([H0][#6])]([$([OX2H]),$([OX1-])])[OX2][#6;!$(C=[O,N,S])]' : 'Phosphonous_monoester',\n",
    "    '[PX3;$([H1]),$([H0][#6])]([OX2][#6;!$(C=[O,N,S])])[OX2][#6;!$(C=[O,N,S])]' : 'Phosphonous_diester',\n",
    "    '[PX3;$([H1]),$([H0][#6])]([$([OX2H]),$([OX1-])])[#7X3;$([H2]),$([H1][#6;!$(C=[O,N,S])]),$([#7]([#6;!$(C=[O,N,S])])[#6;!$(C=[O,N,S])])]' : 'Phosphonous_monoamide',\n",
    "    '[PX3;$([H1]),$([H0][#6])]([#7X3;$([H2]),$([H1][#6;!$(C=[O,N,S])]),$([#7]([#6;!$(C=[O,N,S])])[#6;!$(C=[O,N,S])])])[#7X3;$([H2]),$([H1][#6;!$(C=[O,N,S])]),$([#7]([#6;!$(C=[O,N,S])])[#6;!$(C=[O,N,S])])]' : 'Phosphonous_diamide',\n",
    "    '[PX3;$([H1]),$([H0][#6])]([OX2][#6;!$(C=[O,N,S])])[#7X3;$([H2]),$([H1][#6;!$(C=[O,N,S])]),$([#7]([#6;!$(C=[O,N,S])])[#6;!$(C=[O,N,S])])]' : 'Phosphonous_esteramide',\n",
    "    '[PX3;$([D2]),$([D3][#6])]([!#6])[!#6]' : 'Phosphonous_derivatives',\n",
    "    '[PX3;$([H2]),$([H1][#6]),$([H0]([#6])[#6])][$([OX2H]),$([OX1-])]' : 'Phosphinous_acid',\n",
    "    '[PX3;$([H2]),$([H1][#6]),$([H0]([#6])[#6])][OX2][#6;!$(C=[O,N,S])]' : 'Phosphinous_ester',\n",
    "    '[PX3;$([H2]),$([H1][#6]),$([H0]([#6])[#6])][#7X3;$([H2]),$([H1][#6;!$(C=[O,N,S])]),$([#7]([#6;!$(C=[O,N,S])])[#6;!$(C=[O,N,S])])]' : 'Phosphinous_amide',\n",
    "    '[PX3;$([H2]),$([H1][#6]),$([H0]([#6])[#6])][!#6]' : 'Phosphinous_derivatives',\n",
    "    '[SiX4]([#6])([#6])([#6])[#6]': 'Quart_silane',\n",
    "    '[SiX4;$([H1]([#6])([#6])[#6]),$([H2]([#6])[#6]),$([H3][#6]),$([H4])]': 'Non-quart_silane',\n",
    "    '[SiX4]([FX1,ClX1,BrX1,IX1])([#6])([#6])[#6]': 'Silylmonohalide',\n",
    "    '[SiX4]([!#6])([#6])([#6])[#6]': 'Het_trialkylsilane',\n",
    "    '[SiX4]([!#6])([!#6])([#6])[#6]': 'Dihet_dialkylsilane',\n",
    "    '[SiX4]([!#6])([!#6])([!#6])[#6]': 'Trihet_alkylsilane',\n",
    "    '[SiX4]([!#6])([!#6])([!#6])[!#6]': 'Silicic_acid_derivative',\n",
    "    '[BX3]([#6])([#6])[#6]': 'Trialkylborane',\n",
    "    '[BX3]([!#6])([!#6])[!#6]': 'Boric_acid_derivatives',\n",
    "    '[BX3]([!#6])([!#6])[!#6]': 'Boronic_acid_derivative',\n",
    "    '[BH1,BH2,BH3,BH4]': 'Borohydride',\n",
    "    '[BX4]': 'Quaternary_boron',\n",
    "    '[!#6;!R0]': 'Heterocyclic',\n",
    "    '[OX2r3]1[#6r3][#6r3]1': 'Epoxide',\n",
    "    '[NX3H1r3]1[#6r3][#6r3]1': 'NH_aziridine',\n",
    "    '[D4R;$(*(@*)(@*)(@*)@*)]': 'Spiro',\n",
    "    '[R;$(*(@*)(@*)@*);!$([D4R;$(*(@*)(@*)(@*)@*)]);!$([R;$(*(@*)(@*)@*);!$([R2;$(*(@*)(@*)(@*)@*)])]@[R;$(*(@*)(@*)@*);!$([R2;$(*(@*)(@*)(@*)@*)])])]' : 'Bridged_rings',\n",
    "    '[OX2;$([r5]1@C@C@C(O)@C1),$([r6]1@C@C@C(O)@C(O)@C1)]': 'Sugar_pattern_1',\n",
    "    '[OX2;$([r5]1@C(!@[OX2,NX3,SX2,FX1,ClX1,BrX1,IX1])@C@C@C1),$([r6]1@C(!@[OX2,NX3,SX2,FX1,ClX1,BrX1,IX1])@C@C@C@C1)]': 'Sugar_pattern_2',\n",
    "    '[OX2;$([r5]1@C(!@[OX2,NX3,SX2,FX1,ClX1,BrX1,IX1])@C@C(O)@C1),$([r6]1@C(!@[OX2,NX3,SX2,FX1,ClX1,BrX1,IX1])@C@C(O)@C(O)@C1)]': 'Sugar_pattern_combi',\n",
    "    '[OX2;$([r5]1@C(!@[OX2H1])@C@C@C1),$([r6]1@C(!@[OX2H1])@C@C@C@C1)]': 'Sugar_pattern_2_reducing',\n",
    "    '[OX2;$([r5]1@[C@@](!@[OX2,NX3,SX2,FX1,ClX1,BrX1,IX1])@C@C@C1),$([r6]1@[C@@](!@[OX2,NX3,SX2,FX1,ClX1,BrX1,IX1])@C@C@C@C1)]': 'Sugar_pattern_2_alpha',\n",
    "    '[OX2;$([r5]1@[C@](!@[OX2,NX3,SX2,FX1,ClX1,BrX1,IX1])@C@C@C1),$([r6]1@[C@](!@[OX2,NX3,SX2,FX1,ClX1,BrX1,IX1])@C@C@C@C1)]': 'Sugar_pattern_2_beta',\n",
    "    '[$(*=O),$([#16,#14,#5]),$([#7]([#6]=[OX1]))][#8X2][$(*=O),$([#16,#14,#5]),$([#7]([#6]=[OX1]))]': 'Mixed_anhydrides',\n",
    "    '[FX1,ClX1,BrX1,IX1][!#6]': 'Halogen_on_hetero',\n",
    "    '[F,Cl,Br,I;!$([X1]);!$([X0-])]': 'Halogen_multi_subst',\n",
    "    '[F][c1ccccc1]': 'Fluoride_benzyl',\n",
    "    '[Cl][c1ccccc1]': 'Chloride_benzyl',\n",
    "    '[Br][c1ccccc1]': 'Bromide_benzyl',\n",
    "    '[I][c1ccccc1]': 'Iodine_benzyl',\n",
    "    'C1C2CC3CC1CC(C2)C3': 'Adamantane_Derivative',\n",
    "    'C1CCC2C(C1)CCC3C2CCC4C3CCC4': 'Sterone_Derivative',\n",
    "    'c1ccc2c(c1)Cc3c2cccc3': 'Benzo[c]fluorene_Derivative',\n",
    "    '[a]1[a][a][a]2[a][a][a][a][a]2[a]1': 'Naphtalene_Derivative',\n",
    "    '[a]1[a][a][a]2[a][a]3[a][a][a][a][a]3[a][a]2[a]1': 'Anthracene_Derivative',\n",
    "    'c1ccc2c(c1)ccc3ccccc23': 'Phenanthrene_Derivative',\n",
    "    'C1C=CC2=CC=C3C=CC=CC3=C12': 'Phenalene_Derivative',\n",
    "    '[a]1[a][a][a]2[a][a]3[a][a]4[a][a][a][a][a]4[a][a]3[a][a]2[a][a][a][a]1': 'Tetracene_Derivative',\n",
    "    '[a]1[a][a][a]2[a](=[a]1)[a][a][a]3[a]2[a][a][a]4[a][a][a][a][a]4[a]3': 'Chrysene_Derivative',\n",
    "    '[a]1[a][a][a]2[a](=[a]1)[a]3[a][a][a][a][a]3[a]4[a][a][a][a][a]4[a]2': 'Triphenylene_Derivative',\n",
    "    '[a]1[a][a]2[a]3[a](=[a]1)[a][a]4[a][a][a][a][a]4[a]3[a][a]2': 'Pyrene_Derivative',\n",
    "    '[a]1[a][a][a]2[a][a]3[a][a]4[a][a]5[a][a][a][a][a]5[a][a]4[a][a]3[a][a]2[a][a][a][a]1': 'Pentacene_Derivative',\n",
    "    '[a]1[a][a]2[a]3[a](=[a]1)[a]4[a][a][a][a]5[a]4[a](=[a][a][a]5)[a]3[a][a]2': 'Perylene_Derivative',\n",
    "    '[a]1[a][a][a]2[a]3[a]4[a](=[a]2[a]1)[a][a]5[a]4[a](=[a][a][a]5)[a][a]3': 'Benzo[a]pyrene_Derivative',\n",
    "    '[a]1[a][a]2[a]3[a]4[a](=[a]1)[a][a]5[a]4[a]6[a](=[a]5)[a][a]7[a][a][a]7[a]6[a][a]3[a][a](=[a]2)[a][a]': 'Coronene_Derivative',\n",
    "\n",
    "    }"
   ]
  },
  {
   "cell_type": "code",
   "execution_count": 177,
   "id": "225c849e-5eb2-4ef7-8bf5-60f1c8b822a0",
   "metadata": {},
   "outputs": [],
   "source": [
    "def find_smiles_patterns(smiles, smarts_patterns):\n",
    "    mol = Chem.MolFromSmiles(smiles)\n",
    "    if mol is None:\n",
    "        return \"Invalid SMILES string. Unable to parse molecule.\"\n",
    "\n",
    "    # Define a list to store the chemical groups found in the SMILES\n",
    "    chemical_groups = []\n",
    "\n",
    "    # Dictionary to store matches for each chemical group\n",
    "    matches_dict = {name: [] for name in smarts_patterns.values()}\n",
    "\n",
    "    # Iterate over each SMARTS pattern and find matches in the molecule\n",
    "    for pattern, name in smarts_patterns.items():\n",
    "        smarts_mol = Chem.MolFromSmarts(pattern)\n",
    "        if smarts_mol is None:\n",
    "            continue  # Skip invalid SMARTS patterns\n",
    "        matches = mol.GetSubstructMatches(smarts_mol)\n",
    "        if matches:\n",
    "            matches_dict[name].extend(matches)\n",
    "\n",
    "    # Keep track of unique matches for each chemical group\n",
    "    unique_matches = set()\n",
    "    for matches in matches_dict.values():\n",
    "        for match in matches:\n",
    "            unique_matches.add(tuple(match))\n",
    "\n",
    "    # Convert unique matches back to a list of chemical groups\n",
    "    for name, matches in matches_dict.items():\n",
    "        for match in matches:\n",
    "            if tuple(match) in unique_matches:\n",
    "                chemical_groups.append(name)\n",
    "                unique_matches.remove(tuple(match))\n",
    "\n",
    "    # Return the list of identified chemical groups\n",
    "    return chemical_groups"
   ]
  },
  {
   "cell_type": "markdown",
   "id": "0b300b92-09cd-46bf-a448-2c76e7b23a3f",
   "metadata": {},
   "source": [
    "As to be expected the code finds the aldehyde and sees that the molecule is a derivative from naphtalene."
   ]
  },
  {
   "cell_type": "code",
   "execution_count": 178,
   "id": "fb55451f-d326-4b6c-a6d0-e1b05a27eb86",
   "metadata": {},
   "outputs": [
    {
     "name": "stdout",
     "output_type": "stream",
     "text": [
      "Chemical groups found: ['Aldehyde', 'Naphtalene_Derivative']\n"
     ]
    }
   ],
   "source": [
    "# Example usage for 2-Naphthaldehyde\n",
    "smiles_string = 'C1=CC=C2C=C(C=CC2=C1)C=O'\n",
    "chemical_groups_found = find_smiles_patterns(smiles_string, smarts_patterns)\n",
    "print(\"Chemical groups found:\", chemical_groups_found)"
   ]
  },
  {
   "cell_type": "code",
   "execution_count": null,
   "id": "4bf486e9-0b90-45ad-bf18-6fcf67e00d44",
   "metadata": {},
   "outputs": [],
   "source": []
  },
  {
   "cell_type": "markdown",
   "id": "bee4632f-321a-4186-9ed8-ca60a50f619a",
   "metadata": {},
   "source": [
    "Thanks to the SMARTS patterns, molecules like p-Coumaric acid can be correctly analyzed, only printing relevant chemical groups such as the phenol and carboxylic acid. This accuracy is achieved by using SMARTS patterns that avoid errors typically encountered with SMILES-based analysis."
   ]
  },
  {
   "cell_type": "code",
   "execution_count": 180,
   "id": "d54c04cc-84f3-4d7b-abb6-6c10007a5f72",
   "metadata": {},
   "outputs": [
    {
     "name": "stdout",
     "output_type": "stream",
     "text": [
      "Chemical groups found: ['Alkene', 'Carboxylic_acid', 'Phenol']\n"
     ]
    }
   ],
   "source": [
    "# Example usage for p-Coumaric Acid\n",
    "smiles_string = 'C1=CC(=CC=C1/C=C/C(=O)O)O'\n",
    "chemical_groups_found = find_smiles_patterns(smiles_string, smarts_patterns)\n",
    "print(\"Chemical groups found:\", chemical_groups_found)"
   ]
  },
  {
   "cell_type": "markdown",
   "id": "797bf06a-e5f8-4f9e-9532-866ec79cc0e2",
   "metadata": {},
   "source": [
    "## Larger organic molecules\n",
    "The code can also analyze larger molecules, such as polyphenols and other organic compounds. When analyzing these molecules, the code primarily focuses on identifying smaller functional groups and does not currently analyze larger groups like glucosides or galloyl groups. These larger groups could be added if necessary for more detailed analysis."
   ]
  },
  {
   "cell_type": "code",
   "execution_count": 128,
   "id": "7fcf1133-66af-4b75-a411-9fb195d981fa",
   "metadata": {},
   "outputs": [
    {
     "name": "stdout",
     "output_type": "stream",
     "text": [
      "Chemical groups found: ['Secondary_alcohol', 'Alkylarylether', 'Alkylarylether', 'Carboxylic_ester', 'Phenol', 'Phenol', 'Phenol', 'Phenol', 'Phenol', 'Phenol', 'Phenol', 'Phenol', 'Phenol', 'Phenol', 'Phenol', 'Phenol', 'Phenol', '1,2-Diphenol', '1,2-Diphenol', '1,2-Diphenol', '1,2-Diphenol', '1,2-Diphenol', '1,2-Diphenol', 'Heterocyclic', 'Heterocyclic']\n"
     ]
    }
   ],
   "source": [
    "# Example usage for Theasinensin B\n",
    "smiles_string = 'C1[C@H]([C@H](OC2=CC(=CC(=C21)O)O)C3=CC(=C(C(=C3C4=C(C(=C(C=C4[C@@H]5[C@@H](CC6=C(C=C(C=C6O5)O)O)OC(=O)C7=CC(=C(C(=C7)O)O)O)O)O)O)O)O)O)O'\n",
    "chemical_groups_found = find_smiles_patterns(smiles_string, smarts_patterns)\n",
    "print(\"Chemical groups found:\", chemical_groups_found)"
   ]
  },
  {
   "cell_type": "markdown",
   "id": "98eea449-fc2b-4d07-aefa-cc9e430acec8",
   "metadata": {},
   "source": [
    "## Testing the Limits of the Code\n",
    "\n",
    "To test the robustness of the code, we can examine its ability to handle very large molecules. For instance, when analyzing a molecule with the formula C182H229N15O49P2SSi3, the code demonstrates no issues, effectively processing this complex structure. This test confirms that the code is capable of analyzing a wide variety of molecules, regardless of their size, making it a versatile tool for different scientific applications."
   ]
  },
  {
   "cell_type": "code",
   "execution_count": 138,
   "id": "26768daf-bdca-4ccc-b667-bf8af64cf8b3",
   "metadata": {},
   "outputs": [
    {
     "name": "stdout",
     "output_type": "stream",
     "text": [
      "Chemical groups found: ['Dialkylether', 'Dialkylether', 'Dialkylthioether', 'Alkylarylether', 'Alkylarylether', 'Alkylarylether', 'Alkylarylether', 'Alkylarylether', 'Alkylarylether', 'Alkylarylether', 'Alkylarylether', 'Carboxylic_ester', 'Carboxylic_ester', 'Carboxylic_ester', 'Carboxylic_ester', 'Carboxylic_ester', 'Secondary_amide', 'Secondary_amide', 'Imidolactam', 'Imidolactam', 'Imidolactam', 'Carboxylic_orthoester', 'Carboxylic_orthoester', 'Carboxylic_orthoester', 'Urea', 'Oxoarene', 'Oxoarene', 'Hetero_N_basic_no_H', 'Hetero_N_basic_no_H', 'Hetero_N_basic_no_H', 'Hetero_N_nonbasic', 'Hetero_N_nonbasic', 'Hetero_N_nonbasic', 'Hetero_N_nonbasic', 'Hetero_N_nonbasic', 'Heterocyclic', 'Heterocyclic', 'Heterocyclic', 'Heterocyclic', 'Heterocyclic', 'Heterocyclic', 'Phosphoric_triester', 'Phosphoric_triester', 'Phosphoric_acid_derivative', 'Phosphoric_acid_derivative', 'Het_trialkylsilane', 'Het_trialkylsilane', 'Silicic_acid_derivative', 'Mixed_anhydrides', 'Mixed_anhydrides']\n"
     ]
    }
   ],
   "source": [
    "# Example usage for very large molecules\n",
    "smiles_string = 'CC(=O)OCCOC(OCCOC(=O)C)O[C@@H]1[C@@H]([C@H](O[C@H]1N2C=CC(=NC2=O)NC(C3=CC=CC=C3)(C4=CC=C(C=C4)OC)C5=CC=C(C=C5)OC)CO[Si](OC6CCCCCCCCCCC6)(O[Si](C)(C)C)O[Si](C)(C)C)OP(=O)(OC)OC[C@@H]7[C@H]([C@H]([C@@H](O7)N8C=CC(=NC8=O)NC(C9=CC=CC=C9)(C1=CC=C(C=C1)OC)C1=CC=C(C=C1)OC)OC(OCCOC(=O)C)OCCOC(=O)C)OP(=O)(OC)OC[C@@H]1[C@H]([C@H]([C@@H](O1)N1C=NC2=C(N=CN=C21)NC(C1=CC=CC=C1)(C1=CC=C(C=C1)OC)C1=CC=C(C=C1)OC)OC(OCCOC)OCCOC)[18O]C(=O)[C@H](CC1=CC=CC=C1)NC(=O)CCCCCNC(=O)CCCC[C@H]1[C@@H]2[C@H](CS1)N(C(=O)N2)C(C1=CC=CC=C1)(C1=CC=C(C=C1)OC)C1=CC=C(C=C1)OC'\n",
    "chemical_groups_found = find_smiles_patterns(smiles_string, smarts_patterns)\n",
    "print(\"Chemical groups found:\", chemical_groups_found)"
   ]
  },
  {
   "cell_type": "markdown",
   "id": "00384b36-45d7-4f39-8b7b-b5b8369663c4",
   "metadata": {},
   "source": [
    "# Finding the rings in the molecule\n",
    "\n",
    "As seen with the molecule above, the function is able to identify and label chemical groups from the SMILES notation, comparing them against the SMARTS list to find matching substructures. However, this code does not provide in-depth information about the overall molecular structure. For example, Theasinensin B, known for its complex structure of fused rings, cannot be fully analyzed by the initial function. To address this, a second function is employed specifically to identify and provide information about ring structures."
   ]
  },
  {
   "cell_type": "code",
   "execution_count": 176,
   "id": "9640f148-3c72-4947-a54f-94e546ed0244",
   "metadata": {},
   "outputs": [],
   "source": [
    "from collections import defaultdict\n",
    "from rdkit import Chem\n",
    "\n",
    "def find_smiles_patterns(smiles, smarts_patterns):\n",
    "    mol = Chem.MolFromSmiles(smiles)\n",
    "    if mol is None:\n",
    "        return \"Invalid SMILES string. Unable to parse molecule.\"\n",
    "\n",
    "    # Define a list to store the chemical groups found in the SMILES\n",
    "    chemical_groups = []\n",
    "\n",
    "    # Dictionary to store matches for each chemical group\n",
    "    matches_dict = {name: [] for name in smarts_patterns.values()}\n",
    "\n",
    "    # Iterate over each SMARTS pattern and find matches in the molecule\n",
    "    for pattern, name in smarts_patterns.items():\n",
    "        matches = mol.GetSubstructMatches(Chem.MolFromSmarts(pattern))\n",
    "        if matches:\n",
    "            matches_dict[name].extend(matches)\n",
    "\n",
    "    # Keep track of unique matches for each chemical group\n",
    "    unique_matches = set()\n",
    "    for matches in matches_dict.values():\n",
    "        for match in matches:\n",
    "            unique_matches.add(tuple(match))\n",
    "\n",
    "    # Convert unique matches back to a list of chemical groups\n",
    "    for name, matches in matches_dict.items():\n",
    "        for match in matches:\n",
    "            if tuple(match) in unique_matches:\n",
    "                chemical_groups.append(name)\n",
    "                unique_matches.remove(tuple(match))\n",
    "\n",
    "    # Return the list of identified chemical groups\n",
    "    return chemical_groups\n",
    "\n",
    "\n",
    "def find_rings(smiles):\n",
    "    mol = Chem.MolFromSmiles(smiles)\n",
    "    if mol is None:\n",
    "        return \"Invalid SMILES string. Unable to parse molecule.\"\n",
    "\n",
    "    # Define lists to store the chemical groups found in the SMILES\n",
    "    non_fused_aromatic_rings = defaultdict(int)\n",
    "    non_fused_non_aromatic_rings = defaultdict(int)\n",
    "    fused_aromatic_rings = defaultdict(int)\n",
    "    fused_non_aromatic_rings = defaultdict(int)\n",
    "    fused_mixed_rings = defaultdict(int)\n",
    "    identified_rings = []\n",
    "\n",
    "    ring_info = mol.GetRingInfo()\n",
    "    all_ring_atoms = ring_info.AtomRings()\n",
    "\n",
    "    # Function to check if a ring is aromatic\n",
    "    def is_aromatic(ring_atoms):\n",
    "        return all(mol.GetAtomWithIdx(idx).GetIsAromatic() for idx in ring_atoms)\n",
    "\n",
    "    # Find and categorize rings\n",
    "    for ring_atoms in all_ring_atoms:\n",
    "        ring_size = len(ring_atoms)\n",
    "        ring_name = f'{ring_size} membered ring'\n",
    "        ring_set = set(ring_atoms)\n",
    "\n",
    "        if any(ring_set.intersection(identified_ring) for identified_ring in identified_rings):\n",
    "            fused = True  # This ring is part of a fused system\n",
    "        else:\n",
    "            fused = False\n",
    "            identified_rings.append(ring_set)\n",
    "\n",
    "        if is_aromatic(ring_atoms):\n",
    "            if fused:\n",
    "                fused_aromatic_rings[ring_name] += 1\n",
    "            else:\n",
    "                non_fused_aromatic_rings[ring_name] += 1\n",
    "        else:\n",
    "            if fused:\n",
    "                fused_non_aromatic_rings[ring_name] += 1\n",
    "            else:\n",
    "                non_fused_non_aromatic_rings[ring_name] += 1\n",
    "\n",
    "        # Check for mixed fused systems\n",
    "        if fused and any(mol.GetAtomWithIdx(idx).GetIsAromatic() for idx in ring_atoms) and \\\n",
    "           any(not mol.GetAtomWithIdx(idx).GetIsAromatic() for idx in ring_atoms):\n",
    "            fused_mixed_rings[ring_name] += 1\n",
    "\n",
    "    # Collect results\n",
    "    results = {\n",
    "        'non fused aromatic rings': dict(non_fused_aromatic_rings),\n",
    "        'non fused non aromatic rings': dict(non_fused_non_aromatic_rings),\n",
    "        'fused aromatic rings': dict(fused_aromatic_rings),\n",
    "        'fused non aromatic rings': dict(fused_non_aromatic_rings),\n",
    "        'fused mixed rings': dict(fused_mixed_rings)\n",
    "    }\n",
    "\n",
    "    return results\n",
    "\n",
    "def format_rings(rings_dict):\n",
    "    formatted_rings = \"\"\n",
    "    for category, rings in rings_dict.items():\n",
    "        if rings:\n",
    "            formatted_rings += f\"{category.replace('_', ' ').capitalize()}:\"\n",
    "            for ring, count in rings.items():\n",
    "                formatted_rings += f\"  {ring}: {count} | \"\n",
    "    if not formatted_rings:\n",
    "        formatted_rings = \"No rings found\"\n",
    "    return formatted_rings"
   ]
  },
  {
   "cell_type": "code",
   "execution_count": 130,
   "id": "a8af4077-9ad3-439d-867e-dbc930754197",
   "metadata": {},
   "outputs": [
    {
     "name": "stdout",
     "output_type": "stream",
     "text": [
      "Non fused aromatic rings:  6 membered ring: 3 | Non fused non aromatic rings:  6 membered ring: 2 | Fused aromatic rings:  6 membered ring: 2 | \n"
     ]
    }
   ],
   "source": [
    "# Example usage of Theasinensin B\n",
    "smiles_string = \"C1[C@H]([C@H](OC2=CC(=CC(=C21)O)O)C3=CC(=C(C(=C3C4=C(C(=C(C=C4[C@@H]5[C@@H](CC6=C(C=C(C=C6O5)O)O)OC(=O)C7=CC(=C(C(=C7)O)O)O)O)O)O)O)O)O)O\"\n",
    "\n",
    "# Print rings\n",
    "print_rings(smiles_string)"
   ]
  },
  {
   "cell_type": "markdown",
   "id": "9a61f11b-aad8-435e-a822-4d03280a829a",
   "metadata": {},
   "source": [
    "When using this additional function, the specific ring structure of a molecule can be determined, as demonstrated with Theasinensin B, a polyphenol flavonoid found in black tea. By combining the two functions—one for identifying chemical groups and another for analyzing ring structures—a comprehensive analysis of the molecule's overall structure can be achieved. This integrated approach is illustrated below."
   ]
  },
  {
   "cell_type": "markdown",
   "id": "82fa02d9-1542-4f88-9adc-0ed41807c3fb",
   "metadata": {},
   "source": [
    "# Highlighting Chemical groups\n",
    "\n",
    "When working with larger molecules, as shown above, it can be challenging to keep track of all the chemical groups, and visualizing the molecule can be nearly impossible. To address this issue, we've created a visual aid that not only displays the molecule but also utilizes the function for finding chemical groups to highlight them in a 2D image. This visual representation makes molecule analysis much more accessible and provides immediate information on the location of chemical groups."
   ]
  },
  {
   "cell_type": "code",
   "execution_count": 153,
   "id": "203b7f60-bc79-4c77-a6c6-21a410e8aa50",
   "metadata": {},
   "outputs": [],
   "source": [
    "from rdkit import Chem\n",
    "from rdkit.Chem import Draw\n",
    "from rdkit.Chem.Draw import rdMolDraw2D\n",
    "import IPython.display as display\n",
    "\n",
    "def highlight_chemical_groups(smiles, smarts_patterns):\n",
    "    # Function to find chemical groups in the molecule\n",
    "    def find_chemical_groups(smiles, smarts_patterns):\n",
    "        mol = Chem.MolFromSmiles(smiles)\n",
    "        if mol is None:\n",
    "            raise ValueError(f\"Invalid SMILES string: {smiles}\")\n",
    "        \n",
    "        chemical_groups = {}\n",
    "        for smarts, group_name in smarts_patterns.items():\n",
    "            pattern = Chem.MolFromSmarts(smarts)\n",
    "            if pattern is None:\n",
    "                raise ValueError(f\"Invalid SMARTS pattern: {smarts}\")\n",
    "            \n",
    "            matches = mol.GetSubstructMatches(pattern)\n",
    "            if matches:\n",
    "                chemical_groups[group_name] = matches\n",
    "        \n",
    "        return chemical_groups\n",
    "\n",
    "    # Find chemical groups in the molecule\n",
    "    chemical_groups = find_chemical_groups(smiles, smarts_patterns)\n",
    "\n",
    "    mol = Chem.MolFromSmiles(smiles)\n",
    "\n",
    "    highlight_atoms = set()\n",
    "    highlight_bonds = set()\n",
    "\n",
    "    # Highlight atoms and bonds corresponding to the identified chemical groups\n",
    "    for name, matches in chemical_groups.items():\n",
    "        for match in matches:\n",
    "            highlight_atoms.update(match)\n",
    "            for i in range(len(match)):\n",
    "                for j in range(i+1, len(match)):\n",
    "                    bond = mol.GetBondBetweenAtoms(match[i], match[j])\n",
    "                    if bond is not None:\n",
    "                        highlight_bonds.add(bond.GetIdx())\n",
    "\n",
    "    # Generate the image with highlighted chemical groups using higher resolution\n",
    "    drawer = rdMolDraw2D.MolDraw2DCairo(500, 500)\n",
    "    opts = drawer.drawOptions()\n",
    "    opts.highlightColour = (1, 0, 0)\n",
    "    highlight_colors = {atom_idx: (0.9, 0.5, 0.5) for atom_idx in highlight_atoms}\n",
    "    rdMolDraw2D.PrepareAndDrawMolecule(drawer, mol, highlightAtoms=list(highlight_atoms), highlightBonds=list(highlight_bonds), highlightAtomColors=highlight_colors)\n",
    "    drawer.FinishDrawing()\n",
    "\n",
    "    img = drawer.GetDrawingText()\n",
    "\n",
    "    display.display(display.Image(data=img, format='png'))\n"
   ]
  },
  {
   "cell_type": "code",
   "execution_count": 157,
   "id": "e012df73-058e-48c2-b7ca-b657e164959d",
   "metadata": {},
   "outputs": [
    {
     "data": {
      "image/png": "[encoded data removed]",
      "text/plain": [
       "<IPython.core.display.Image object>"
      ]
     },
     "metadata": {},
     "output_type": "display_data"
    }
   ],
   "source": [
    "# Example SMILES string to highlight chemical groups in Naringin\n",
    "smiles_string = 'C[C@H]1[C@@H]([C@H]([C@H]([C@@H](O1)O[C@@H]2[C@H]([C@@H]([C@H](O[C@H]2OC3=CC(=C4C(=O)C[C@H](OC4=C3)C5=CC=C(C=C5)O)O)CO)O)O)O)O)O'\n",
    "\n",
    "# Highlight the chemical groups in the molecule\n",
    "highlight_chemical_groups(smiles_string, smarts_patterns)"
   ]
  },
  {
   "cell_type": "markdown",
   "id": "70c6c719-c409-4d49-8549-504f9c187ec2",
   "metadata": {},
   "source": [
    "# The importance of Stereochemistry\n",
    "\n",
    "A crucial aspect of organic chemistry is stereochemistry, which influences both the effects and chemical properties of molecules. Therefore, having a function that can count, identify, and even attribute chiral centers in a molecule is highly valuable. This functionality has been implemented in the next part of the code, relying on two independent components: one for counting chiral centers and another for printing the R and S configuration of the molecule's image.\n",
    "\n",
    "It's important to note that in this code, we opted to attribute the stereogenic centers. This decision was made to optimize space in the final interface of the code, where only one function was deemed necessary. The identification of stereogenic centers was performed in the first function of the code, as demonstrated by the get_compound_info function.\n",
    "\n",
    "Now, in addition to this functionality, the code can identify chiral centers on the molecule image. This last function, shown below, is a feature of RDKit and aids in visualizing chiral centers on the molecule."
   ]
  },
  {
   "cell_type": "code",
   "execution_count": 1,
   "id": "45d2f92c-edfc-448f-b64e-38e2778e5359",
   "metadata": {},
   "outputs": [],
   "source": [
    "# add code here for printing the centers on the molecule"
   ]
  },
  {
   "cell_type": "markdown",
   "id": "76d47aa5-39fa-42f5-a69c-789fff4ed668",
   "metadata": {},
   "source": [
    "# Properties of the interface\n",
    "This program was designed to function as an extension, serving as an assistant during scientific work. It operates in the background and accesses the clipboard monitor, initiating the program automatically when a chemical name is copied. Subsequently, it provides the corresponding results without requiring manual input."
   ]
  },
  {
   "cell_type": "code",
   "execution_count": null,
   "id": "ac9de365-2516-47bb-a55e-2e93495f9d62",
   "metadata": {},
   "outputs": [],
   "source": []
  },
  {
   "cell_type": "code",
   "execution_count": 1,
   "id": "454657ba-93d6-44ba-ade4-88af2cd7c769",
   "metadata": {},
   "outputs": [],
   "source": [
    "# Add the explanation here for all the attibutes of how the interface works how the images are printed, the formating the syling and the images @ElieAJ very important"
   ]
  },
  {
   "cell_type": "code",
   "execution_count": null,
   "id": "34c4f259-45fe-410e-aa1f-4df86144b1fa",
   "metadata": {},
   "outputs": [],
   "source": [
    "# Start a daemon thread that runs the clipboard monitoring function\n",
    "threading.Thread(target=clipboard_monitor, daemon=True).start()\n",
    "root.mainloop()"
   ]
  },
  {
   "cell_type": "markdown",
   "id": "5b65f2f4-3ec2-40b9-8686-a5a48ebb7d72",
   "metadata": {},
   "source": [
    "## Button to swap between graphics\n",
    "\n",
    "During the analysis of the code's functionality in its interface, several attributes were added to enhance usability. One such addition is a button that allows users to toggle between two graphical representations of the molecule.\n",
    "\n",
    "By clicking this button, users can switch between:\n",
    "\n",
    "1. Highlighting the chemical groups in the molecule\n",
    "2. Displaying the standard molecule graph with R/S configurations at chiral centers\n",
    "\n",
    "This feature provides users with greater flexibility and ease of use when visualizing and analyzing molecular structures.\n"
   ]
  },
  {
   "cell_type": "markdown",
   "id": "723965ec-a07e-4faf-a59b-a02fb1df60a5",
   "metadata": {},
   "source": [
    "## URL of Pubchem link\n",
    "\n",
    "To offer users the option for further analysis and information, the program also includes a PubChem link. This link directs users to additional information about the molecule of interest directly on the PubChem website. This feature provides users with a quick and convenient solution, eliminating the need to rely on conventional search engines for further research."
   ]
  },
  {
   "cell_type": "code",
   "execution_count": 3,
   "id": "53b80955-e90e-4e06-b441-8b21755131ee",
   "metadata": {},
   "outputs": [],
   "source": [
    "def open_url(url):\n",
    "    webbrowser.open_new(url)"
   ]
  }
 ],
 "metadata": {
  "kernelspec": {
   "display_name": "Python 3 (ipykernel)",
   "language": "python",
   "name": "python3"
  },
  "language_info": {
   "codemirror_mode": {
    "name": "ipython",
    "version": 3
   },
   "file_extension": ".py",
   "mimetype": "text/x-python",
   "name": "python",
   "nbconvert_exporter": "python",
   "pygments_lexer": "ipython3",
   "version": "3.10.14"
  }
 },
 "nbformat": 4,
 "nbformat_minor": 5
}
